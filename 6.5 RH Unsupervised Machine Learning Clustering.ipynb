{
 "cells": [
  {
   "cell_type": "markdown",
   "id": "cd81c412",
   "metadata": {},
   "source": [
    "# This notebook contains:\n",
    "    \n",
    "# 1. Importing libraries and data and renaming columns\n",
    "\n",
    "# 2. The elbow technique\n",
    "\n",
    "# 3. k-means clustering"
   ]
  },
  {
   "cell_type": "markdown",
   "id": "fc7c1914",
   "metadata": {},
   "source": [
    "Importing libraries and data and renaming columns¶"
   ]
  },
  {
   "cell_type": "markdown",
   "id": "c23b5cd8",
   "metadata": {},
   "source": [
    "Install and import all necessary libraries in your Jupyter notebook.\n",
    "\n",
    "Import your data and conduct any necessary cleaning, manipulations, and reprocessing (such as renaming).\n",
    "Recall from the Exercise that the k-means algorithm can only handle numerical variables, so you’ll need to remove any categorical columns from your data.\n",
    "Also recall that the difference between your variables’ scales can’t be too large or your results will be biased. Make sure you standardize your data first."
   ]
  },
  {
   "cell_type": "code",
   "execution_count": 69,
   "id": "037431da",
   "metadata": {},
   "outputs": [],
   "source": [
    "import pandas as pd\n",
    "import numpy as np\n",
    "import seaborn as sns\n",
    "import matplotlib\n",
    "import matplotlib.pyplot as plt\n",
    "import os\n",
    "import sklearn\n",
    "from sklearn.cluster import KMeans # Here is where you import the k-means algorithm from scikit-learn.\n",
    "import pylab as pl # PyLab is a convenience module that bulk imports matplotlib."
   ]
  },
  {
   "cell_type": "code",
   "execution_count": 70,
   "id": "f258954e",
   "metadata": {},
   "outputs": [],
   "source": [
    "# This option ensures the graphs you create are displayed in your notebook without the need to \"call\" them specifically.\n",
    "\n",
    "%matplotlib inline"
   ]
  },
  {
   "cell_type": "code",
   "execution_count": 71,
   "id": "3168e51c",
   "metadata": {},
   "outputs": [],
   "source": [
    "#Defining and creating a folder path\n",
    "path = r'/Users/renataherrera/Documents/CF RH 2023-2024/CF DATA IMMERSION/CF RH A6 Advanced Analytics Vancouver'\n"
   ]
  },
  {
   "cell_type": "code",
   "execution_count": 72,
   "id": "d62685d7",
   "metadata": {},
   "outputs": [
    {
     "data": {
      "text/plain": [
       "'/Users/renataherrera/Documents/CF RH 2023-2024/CF DATA IMMERSION/CF RH A6 Advanced Analytics Vancouver'"
      ]
     },
     "execution_count": 72,
     "metadata": {},
     "output_type": "execute_result"
    }
   ],
   "source": [
    "#double checking path\n",
    "path"
   ]
  },
  {
   "cell_type": "code",
   "execution_count": 73,
   "id": "6338dc7a",
   "metadata": {},
   "outputs": [
    {
     "data": {
      "text/plain": [
       "(6684, 10)"
      ]
     },
     "execution_count": 73,
     "metadata": {},
     "output_type": "execute_result"
    }
   ],
   "source": [
    "#Creating file path and importing listings dataset and checking\n",
    "listings = pd.read_csv(os.path.join(path, 'Data', 'Prepared Data', 'cleaned_van_geo.csv'))\n",
    "listings.shape"
   ]
  },
  {
   "cell_type": "code",
   "execution_count": 74,
   "id": "6908c934",
   "metadata": {},
   "outputs": [
    {
     "data": {
      "text/html": [
       "<div>\n",
       "<style scoped>\n",
       "    .dataframe tbody tr th:only-of-type {\n",
       "        vertical-align: middle;\n",
       "    }\n",
       "\n",
       "    .dataframe tbody tr th {\n",
       "        vertical-align: top;\n",
       "    }\n",
       "\n",
       "    .dataframe thead th {\n",
       "        text-align: right;\n",
       "    }\n",
       "</style>\n",
       "<table border=\"1\" class=\"dataframe\">\n",
       "  <thead>\n",
       "    <tr style=\"text-align: right;\">\n",
       "      <th></th>\n",
       "      <th>Unnamed: 0</th>\n",
       "      <th>id</th>\n",
       "      <th>neighbourhood</th>\n",
       "      <th>latitude</th>\n",
       "      <th>longitude</th>\n",
       "      <th>room_type</th>\n",
       "      <th>price</th>\n",
       "      <th>number_of_reviews</th>\n",
       "      <th>availability_365</th>\n",
       "      <th>calculated_host_listings_count</th>\n",
       "    </tr>\n",
       "  </thead>\n",
       "  <tbody>\n",
       "    <tr>\n",
       "      <th>0</th>\n",
       "      <td>0</td>\n",
       "      <td>13188</td>\n",
       "      <td>Riley Park</td>\n",
       "      <td>49.247730</td>\n",
       "      <td>-123.105090</td>\n",
       "      <td>Entire home/apt</td>\n",
       "      <td>150.0</td>\n",
       "      <td>283</td>\n",
       "      <td>0</td>\n",
       "      <td>1</td>\n",
       "    </tr>\n",
       "    <tr>\n",
       "      <th>1</th>\n",
       "      <td>1</td>\n",
       "      <td>13221</td>\n",
       "      <td>Riley Park</td>\n",
       "      <td>49.254890</td>\n",
       "      <td>-123.097080</td>\n",
       "      <td>Entire home/apt</td>\n",
       "      <td>120.0</td>\n",
       "      <td>15</td>\n",
       "      <td>363</td>\n",
       "      <td>1</td>\n",
       "    </tr>\n",
       "    <tr>\n",
       "      <th>2</th>\n",
       "      <td>2</td>\n",
       "      <td>13358</td>\n",
       "      <td>Downtown</td>\n",
       "      <td>49.281174</td>\n",
       "      <td>-123.125931</td>\n",
       "      <td>Entire home/apt</td>\n",
       "      <td>165.0</td>\n",
       "      <td>493</td>\n",
       "      <td>0</td>\n",
       "      <td>1</td>\n",
       "    </tr>\n",
       "    <tr>\n",
       "      <th>3</th>\n",
       "      <td>3</td>\n",
       "      <td>13490</td>\n",
       "      <td>Kensington-Cedar Cottage</td>\n",
       "      <td>49.256220</td>\n",
       "      <td>-123.066070</td>\n",
       "      <td>Entire home/apt</td>\n",
       "      <td>150.0</td>\n",
       "      <td>101</td>\n",
       "      <td>92</td>\n",
       "      <td>1</td>\n",
       "    </tr>\n",
       "    <tr>\n",
       "      <th>4</th>\n",
       "      <td>4</td>\n",
       "      <td>14267</td>\n",
       "      <td>Kensington-Cedar Cottage</td>\n",
       "      <td>49.249220</td>\n",
       "      <td>-123.081390</td>\n",
       "      <td>Entire home/apt</td>\n",
       "      <td>150.0</td>\n",
       "      <td>33</td>\n",
       "      <td>17</td>\n",
       "      <td>1</td>\n",
       "    </tr>\n",
       "  </tbody>\n",
       "</table>\n",
       "</div>"
      ],
      "text/plain": [
       "   Unnamed: 0     id             neighbourhood   latitude   longitude  \\\n",
       "0           0  13188                Riley Park  49.247730 -123.105090   \n",
       "1           1  13221                Riley Park  49.254890 -123.097080   \n",
       "2           2  13358                  Downtown  49.281174 -123.125931   \n",
       "3           3  13490  Kensington-Cedar Cottage  49.256220 -123.066070   \n",
       "4           4  14267  Kensington-Cedar Cottage  49.249220 -123.081390   \n",
       "\n",
       "         room_type  price  number_of_reviews  availability_365  \\\n",
       "0  Entire home/apt  150.0                283                 0   \n",
       "1  Entire home/apt  120.0                 15               363   \n",
       "2  Entire home/apt  165.0                493                 0   \n",
       "3  Entire home/apt  150.0                101                92   \n",
       "4  Entire home/apt  150.0                 33                17   \n",
       "\n",
       "   calculated_host_listings_count  \n",
       "0                               1  \n",
       "1                               1  \n",
       "2                               1  \n",
       "3                               1  \n",
       "4                               1  "
      ]
     },
     "execution_count": 74,
     "metadata": {},
     "output_type": "execute_result"
    }
   ],
   "source": [
    "listings.head()"
   ]
  },
  {
   "cell_type": "code",
   "execution_count": 75,
   "id": "0a1b7deb",
   "metadata": {},
   "outputs": [],
   "source": [
    "#dropping some Unnamed\n",
    "listings.drop(['Unnamed: 0'], axis = 1, inplace=True)"
   ]
  },
  {
   "cell_type": "code",
   "execution_count": 76,
   "id": "8bf058e5",
   "metadata": {},
   "outputs": [
    {
     "data": {
      "text/html": [
       "<div>\n",
       "<style scoped>\n",
       "    .dataframe tbody tr th:only-of-type {\n",
       "        vertical-align: middle;\n",
       "    }\n",
       "\n",
       "    .dataframe tbody tr th {\n",
       "        vertical-align: top;\n",
       "    }\n",
       "\n",
       "    .dataframe thead th {\n",
       "        text-align: right;\n",
       "    }\n",
       "</style>\n",
       "<table border=\"1\" class=\"dataframe\">\n",
       "  <thead>\n",
       "    <tr style=\"text-align: right;\">\n",
       "      <th></th>\n",
       "      <th>id</th>\n",
       "      <th>neighbourhood</th>\n",
       "      <th>latitude</th>\n",
       "      <th>longitude</th>\n",
       "      <th>room_type</th>\n",
       "      <th>price</th>\n",
       "      <th>number_of_reviews</th>\n",
       "      <th>availability_365</th>\n",
       "      <th>calculated_host_listings_count</th>\n",
       "    </tr>\n",
       "  </thead>\n",
       "  <tbody>\n",
       "    <tr>\n",
       "      <th>0</th>\n",
       "      <td>13188</td>\n",
       "      <td>Riley Park</td>\n",
       "      <td>49.247730</td>\n",
       "      <td>-123.105090</td>\n",
       "      <td>Entire home/apt</td>\n",
       "      <td>150.0</td>\n",
       "      <td>283</td>\n",
       "      <td>0</td>\n",
       "      <td>1</td>\n",
       "    </tr>\n",
       "    <tr>\n",
       "      <th>1</th>\n",
       "      <td>13221</td>\n",
       "      <td>Riley Park</td>\n",
       "      <td>49.254890</td>\n",
       "      <td>-123.097080</td>\n",
       "      <td>Entire home/apt</td>\n",
       "      <td>120.0</td>\n",
       "      <td>15</td>\n",
       "      <td>363</td>\n",
       "      <td>1</td>\n",
       "    </tr>\n",
       "    <tr>\n",
       "      <th>2</th>\n",
       "      <td>13358</td>\n",
       "      <td>Downtown</td>\n",
       "      <td>49.281174</td>\n",
       "      <td>-123.125931</td>\n",
       "      <td>Entire home/apt</td>\n",
       "      <td>165.0</td>\n",
       "      <td>493</td>\n",
       "      <td>0</td>\n",
       "      <td>1</td>\n",
       "    </tr>\n",
       "    <tr>\n",
       "      <th>3</th>\n",
       "      <td>13490</td>\n",
       "      <td>Kensington-Cedar Cottage</td>\n",
       "      <td>49.256220</td>\n",
       "      <td>-123.066070</td>\n",
       "      <td>Entire home/apt</td>\n",
       "      <td>150.0</td>\n",
       "      <td>101</td>\n",
       "      <td>92</td>\n",
       "      <td>1</td>\n",
       "    </tr>\n",
       "    <tr>\n",
       "      <th>4</th>\n",
       "      <td>14267</td>\n",
       "      <td>Kensington-Cedar Cottage</td>\n",
       "      <td>49.249220</td>\n",
       "      <td>-123.081390</td>\n",
       "      <td>Entire home/apt</td>\n",
       "      <td>150.0</td>\n",
       "      <td>33</td>\n",
       "      <td>17</td>\n",
       "      <td>1</td>\n",
       "    </tr>\n",
       "  </tbody>\n",
       "</table>\n",
       "</div>"
      ],
      "text/plain": [
       "      id             neighbourhood   latitude   longitude        room_type  \\\n",
       "0  13188                Riley Park  49.247730 -123.105090  Entire home/apt   \n",
       "1  13221                Riley Park  49.254890 -123.097080  Entire home/apt   \n",
       "2  13358                  Downtown  49.281174 -123.125931  Entire home/apt   \n",
       "3  13490  Kensington-Cedar Cottage  49.256220 -123.066070  Entire home/apt   \n",
       "4  14267  Kensington-Cedar Cottage  49.249220 -123.081390  Entire home/apt   \n",
       "\n",
       "   price  number_of_reviews  availability_365  calculated_host_listings_count  \n",
       "0  150.0                283                 0                               1  \n",
       "1  120.0                 15               363                               1  \n",
       "2  165.0                493                 0                               1  \n",
       "3  150.0                101                92                               1  \n",
       "4  150.0                 33                17                               1  "
      ]
     },
     "execution_count": 76,
     "metadata": {},
     "output_type": "execute_result"
    }
   ],
   "source": [
    "# Checking dropped coloumns\n",
    "listings.head()"
   ]
  },
  {
   "cell_type": "code",
   "execution_count": 77,
   "id": "fa561390",
   "metadata": {},
   "outputs": [
    {
     "data": {
      "text/plain": [
       "(6684, 9)"
      ]
     },
     "execution_count": 77,
     "metadata": {},
     "output_type": "execute_result"
    }
   ],
   "source": [
    "listings.shape"
   ]
  },
  {
   "cell_type": "code",
   "execution_count": 78,
   "id": "70f55702",
   "metadata": {},
   "outputs": [
    {
     "data": {
      "text/plain": [
       "['id',\n",
       " 'neighbourhood',\n",
       " 'latitude',\n",
       " 'longitude',\n",
       " 'room_type',\n",
       " 'price',\n",
       " 'number_of_reviews',\n",
       " 'availability_365',\n",
       " 'calculated_host_listings_count']"
      ]
     },
     "execution_count": 78,
     "metadata": {},
     "output_type": "execute_result"
    }
   ],
   "source": [
    "#checking the list of columns \n",
    "listings.columns.to_list()"
   ]
  },
  {
   "cell_type": "code",
   "execution_count": 79,
   "id": "021a39c7",
   "metadata": {},
   "outputs": [
    {
     "data": {
      "text/plain": [
       "id                                0\n",
       "neighbourhood                     0\n",
       "latitude                          0\n",
       "longitude                         0\n",
       "room_type                         0\n",
       "price                             0\n",
       "number_of_reviews                 0\n",
       "availability_365                  0\n",
       "calculated_host_listings_count    0\n",
       "dtype: int64"
      ]
     },
     "execution_count": 79,
     "metadata": {},
     "output_type": "execute_result"
    }
   ],
   "source": [
    "#double checking for missing values \n",
    "listings.isnull().sum()"
   ]
  },
  {
   "cell_type": "markdown",
   "id": "f0499143",
   "metadata": {},
   "source": [
    "No missing values"
   ]
  },
  {
   "cell_type": "code",
   "execution_count": 80,
   "id": "c9dcf00d",
   "metadata": {},
   "outputs": [],
   "source": [
    "#aggregating columnns \n",
    "agg = {'price':'first',\n",
    "      'number_of_reviews':'first',\n",
    "      'availability_365':'first',\n",
    "      'calculated_host_listings_count':'first'}"
   ]
  },
  {
   "cell_type": "code",
   "execution_count": 81,
   "id": "b0ac3536",
   "metadata": {},
   "outputs": [],
   "source": [
    "#grouping data according to neighbourhood and room type\n",
    "listings = listings.groupby(['neighbourhood','room_type']).agg(agg)"
   ]
  },
  {
   "cell_type": "code",
   "execution_count": 82,
   "id": "5b9ac69f",
   "metadata": {},
   "outputs": [
    {
     "data": {
      "text/html": [
       "<div>\n",
       "<style scoped>\n",
       "    .dataframe tbody tr th:only-of-type {\n",
       "        vertical-align: middle;\n",
       "    }\n",
       "\n",
       "    .dataframe tbody tr th {\n",
       "        vertical-align: top;\n",
       "    }\n",
       "\n",
       "    .dataframe thead th {\n",
       "        text-align: right;\n",
       "    }\n",
       "</style>\n",
       "<table border=\"1\" class=\"dataframe\">\n",
       "  <thead>\n",
       "    <tr style=\"text-align: right;\">\n",
       "      <th></th>\n",
       "      <th></th>\n",
       "      <th>price</th>\n",
       "      <th>number_of_reviews</th>\n",
       "      <th>availability_365</th>\n",
       "      <th>calculated_host_listings_count</th>\n",
       "    </tr>\n",
       "    <tr>\n",
       "      <th>neighbourhood</th>\n",
       "      <th>room_type</th>\n",
       "      <th></th>\n",
       "      <th></th>\n",
       "      <th></th>\n",
       "      <th></th>\n",
       "    </tr>\n",
       "  </thead>\n",
       "  <tbody>\n",
       "    <tr>\n",
       "      <th rowspan=\"3\" valign=\"top\">Arbutus Ridge</th>\n",
       "      <th>Entire home/apt</th>\n",
       "      <td>125.0</td>\n",
       "      <td>771</td>\n",
       "      <td>290</td>\n",
       "      <td>2</td>\n",
       "    </tr>\n",
       "    <tr>\n",
       "      <th>Private room</th>\n",
       "      <td>65.0</td>\n",
       "      <td>93</td>\n",
       "      <td>102</td>\n",
       "      <td>2</td>\n",
       "    </tr>\n",
       "    <tr>\n",
       "      <th>Shared room</th>\n",
       "      <td>62.0</td>\n",
       "      <td>1</td>\n",
       "      <td>200</td>\n",
       "      <td>1</td>\n",
       "    </tr>\n",
       "    <tr>\n",
       "      <th rowspan=\"2\" valign=\"top\">Downtown</th>\n",
       "      <th>Entire home/apt</th>\n",
       "      <td>165.0</td>\n",
       "      <td>493</td>\n",
       "      <td>0</td>\n",
       "      <td>1</td>\n",
       "    </tr>\n",
       "    <tr>\n",
       "      <th>Private room</th>\n",
       "      <td>255.0</td>\n",
       "      <td>46</td>\n",
       "      <td>364</td>\n",
       "      <td>5</td>\n",
       "    </tr>\n",
       "  </tbody>\n",
       "</table>\n",
       "</div>"
      ],
      "text/plain": [
       "                               price  number_of_reviews  availability_365  \\\n",
       "neighbourhood room_type                                                     \n",
       "Arbutus Ridge Entire home/apt  125.0                771               290   \n",
       "              Private room      65.0                 93               102   \n",
       "              Shared room       62.0                  1               200   \n",
       "Downtown      Entire home/apt  165.0                493                 0   \n",
       "              Private room     255.0                 46               364   \n",
       "\n",
       "                               calculated_host_listings_count  \n",
       "neighbourhood room_type                                        \n",
       "Arbutus Ridge Entire home/apt                               2  \n",
       "              Private room                                  2  \n",
       "              Shared room                                   1  \n",
       "Downtown      Entire home/apt                               1  \n",
       "              Private room                                  5  "
      ]
     },
     "execution_count": 82,
     "metadata": {},
     "output_type": "execute_result"
    }
   ],
   "source": [
    "#Checking and viewing agg\n",
    "listings.head()"
   ]
  },
  {
   "cell_type": "code",
   "execution_count": 83,
   "id": "19d06937",
   "metadata": {},
   "outputs": [],
   "source": [
    "# MAking a dataset with new agg\n",
    "listings = pd.DataFrame(listings.reset_index())"
   ]
  },
  {
   "cell_type": "code",
   "execution_count": 84,
   "id": "6539fec3",
   "metadata": {},
   "outputs": [],
   "source": [
    "#rename columns \n",
    "listings.columns = ['neighbourhood','room_type','price', 'no_of_reviews','availability_365','host_listings_count']"
   ]
  },
  {
   "cell_type": "code",
   "execution_count": 85,
   "id": "31437483",
   "metadata": {},
   "outputs": [],
   "source": [
    "#dropping categorical columns\n",
    "listings = listings.drop(columns = ['neighbourhood','room_type'])"
   ]
  },
  {
   "cell_type": "code",
   "execution_count": 86,
   "id": "d861f9bd",
   "metadata": {},
   "outputs": [
    {
     "data": {
      "text/plain": [
       "['price', 'no_of_reviews', 'availability_365', 'host_listings_count']"
      ]
     },
     "execution_count": 86,
     "metadata": {},
     "output_type": "execute_result"
    }
   ],
   "source": [
    "#Checking new df and coloumns contents\n",
    "listings.columns.to_list()"
   ]
  },
  {
   "cell_type": "code",
   "execution_count": 87,
   "id": "d4af9cad",
   "metadata": {},
   "outputs": [
    {
     "data": {
      "text/plain": [
       "(57, 4)"
      ]
     },
     "execution_count": 87,
     "metadata": {},
     "output_type": "execute_result"
    }
   ],
   "source": [
    "listings.shape"
   ]
  },
  {
   "cell_type": "markdown",
   "id": "ee579a8b",
   "metadata": {},
   "source": [
    "The new aggregated listings df contains price, number of reviews, availability 365 and host listings count by in each neighbourhood by room type for a total df of 57X4."
   ]
  },
  {
   "cell_type": "markdown",
   "id": "4f05b918",
   "metadata": {},
   "source": [
    "# 2. The elbow technique\n",
    "\n",
    "Use the elbow technique as shown in the Jupyter notebook for this Exercise."
   ]
  },
  {
   "cell_type": "code",
   "execution_count": 88,
   "id": "7cc5e88f",
   "metadata": {},
   "outputs": [],
   "source": [
    "num_cl = range(1, 10) # Defines the range of potential clusters in the data.\n",
    "kmeans = [KMeans(n_clusters=i) for i in num_cl] # Defines k-means clusters in the range assigned above."
   ]
  },
  {
   "cell_type": "code",
   "execution_count": 89,
   "id": "96af14f1",
   "metadata": {},
   "outputs": [
    {
     "name": "stderr",
     "output_type": "stream",
     "text": [
      "/Users/renataherrera/Documents/anaconda3/lib/python3.11/site-packages/sklearn/cluster/_kmeans.py:1412: FutureWarning: The default value of `n_init` will change from 10 to 'auto' in 1.4. Set the value of `n_init` explicitly to suppress the warning\n",
      "  super()._check_params_vs_input(X, default_n_init=10)\n",
      "/Users/renataherrera/Documents/anaconda3/lib/python3.11/site-packages/sklearn/cluster/_kmeans.py:1412: FutureWarning: The default value of `n_init` will change from 10 to 'auto' in 1.4. Set the value of `n_init` explicitly to suppress the warning\n",
      "  super()._check_params_vs_input(X, default_n_init=10)\n",
      "/Users/renataherrera/Documents/anaconda3/lib/python3.11/site-packages/sklearn/cluster/_kmeans.py:1412: FutureWarning: The default value of `n_init` will change from 10 to 'auto' in 1.4. Set the value of `n_init` explicitly to suppress the warning\n",
      "  super()._check_params_vs_input(X, default_n_init=10)\n",
      "/Users/renataherrera/Documents/anaconda3/lib/python3.11/site-packages/sklearn/cluster/_kmeans.py:1412: FutureWarning: The default value of `n_init` will change from 10 to 'auto' in 1.4. Set the value of `n_init` explicitly to suppress the warning\n",
      "  super()._check_params_vs_input(X, default_n_init=10)\n",
      "/Users/renataherrera/Documents/anaconda3/lib/python3.11/site-packages/sklearn/cluster/_kmeans.py:1412: FutureWarning: The default value of `n_init` will change from 10 to 'auto' in 1.4. Set the value of `n_init` explicitly to suppress the warning\n",
      "  super()._check_params_vs_input(X, default_n_init=10)\n",
      "/Users/renataherrera/Documents/anaconda3/lib/python3.11/site-packages/sklearn/cluster/_kmeans.py:1412: FutureWarning: The default value of `n_init` will change from 10 to 'auto' in 1.4. Set the value of `n_init` explicitly to suppress the warning\n",
      "  super()._check_params_vs_input(X, default_n_init=10)\n",
      "/Users/renataherrera/Documents/anaconda3/lib/python3.11/site-packages/sklearn/cluster/_kmeans.py:1412: FutureWarning: The default value of `n_init` will change from 10 to 'auto' in 1.4. Set the value of `n_init` explicitly to suppress the warning\n",
      "  super()._check_params_vs_input(X, default_n_init=10)\n",
      "/Users/renataherrera/Documents/anaconda3/lib/python3.11/site-packages/sklearn/cluster/_kmeans.py:1412: FutureWarning: The default value of `n_init` will change from 10 to 'auto' in 1.4. Set the value of `n_init` explicitly to suppress the warning\n",
      "  super()._check_params_vs_input(X, default_n_init=10)\n",
      "/Users/renataherrera/Documents/anaconda3/lib/python3.11/site-packages/sklearn/cluster/_kmeans.py:1412: FutureWarning: The default value of `n_init` will change from 10 to 'auto' in 1.4. Set the value of `n_init` explicitly to suppress the warning\n",
      "  super()._check_params_vs_input(X, default_n_init=10)\n"
     ]
    },
    {
     "data": {
      "text/plain": [
       "[-3910098.1403508773,\n",
       " -2262360.142857143,\n",
       " -1347762.7586206896,\n",
       " -798866.3076923077,\n",
       " -644033.9523809524,\n",
       " -508903.0850861557,\n",
       " -421212.5850861557,\n",
       " -375851.1873015873,\n",
       " -309009.2628205128]"
      ]
     },
     "execution_count": 89,
     "metadata": {},
     "output_type": "execute_result"
    }
   ],
   "source": [
    "score = [kmeans[i].fit(listings).score(listings) for i in range(len(kmeans))] # Creates a score that represents \n",
    "# a rate of variation for the given cluster option.\n",
    "\n",
    "score"
   ]
  },
  {
   "cell_type": "code",
   "execution_count": 90,
   "id": "fe85e2d2",
   "metadata": {},
   "outputs": [
    {
     "data": {
      "image/png": "[encoded data removed]",
      "text/plain": [
       "<Figure size 640x480 with 1 Axes>"
      ]
     },
     "metadata": {},
     "output_type": "display_data"
    }
   ],
   "source": [
    "# Plot the elbow curve using PyLab.\n",
    "\n",
    "pl.plot(num_cl,score)\n",
    "pl.xlabel('Number of Clusters')\n",
    "pl.ylabel('Score')\n",
    "pl.title('Elbow Curve')\n",
    "pl.show()"
   ]
  },
  {
   "cell_type": "markdown",
   "id": "0f0ae01e",
   "metadata": {},
   "source": [
    "Make an informed decision about the number of clusters you’ll use in your k-means algorithm based on the chart.\n",
    "\n",
    "Explain why you chose that number in a markdown cell.\n",
    "\n",
    "If you run into any problems determining the optimal number of clusters using the elbow technique, reach out to your tutor for suggestions."
   ]
  },
  {
   "cell_type": "markdown",
   "id": "e4542441",
   "metadata": {},
   "source": [
    "Notes: The elbow, or the breaking point of the curve, is where the curve begins to flatten out. \n",
    "\n",
    "If it jumps rapidly from two to three on the x-axis, then rises only slightly after three. What does this mean? That the optimal count for your clusters is just that—three. \n",
    "\n",
    "Now, let’s use this knowledge to apply your algorithm!"
   ]
  },
  {
   "cell_type": "markdown",
   "id": "c212a2e4",
   "metadata": {},
   "source": [
    "Here, it jumps rapidly from 1-2-3-4 and this is where the curve begins to flatten out. The optimal count for my clusters is just that- 4 (four)."
   ]
  },
  {
   "cell_type": "markdown",
   "id": "9b04d264",
   "metadata": {},
   "source": [
    "# 3. k-means clustering\n",
    "\n",
    "Run the k-means algorithm."
   ]
  },
  {
   "cell_type": "code",
   "execution_count": 91,
   "id": "a37319b4",
   "metadata": {},
   "outputs": [],
   "source": [
    "# Create the k-means object.\n",
    "\n",
    "kmeans = KMeans(n_clusters = 4) "
   ]
  },
  {
   "cell_type": "code",
   "execution_count": 92,
   "id": "412c3f8f",
   "metadata": {},
   "outputs": [
    {
     "name": "stderr",
     "output_type": "stream",
     "text": [
      "/Users/renataherrera/Documents/anaconda3/lib/python3.11/site-packages/sklearn/cluster/_kmeans.py:1412: FutureWarning: The default value of `n_init` will change from 10 to 'auto' in 1.4. Set the value of `n_init` explicitly to suppress the warning\n",
      "  super()._check_params_vs_input(X, default_n_init=10)\n"
     ]
    },
    {
     "data": {
      "text/html": [
       "<style>#sk-container-id-2 {color: black;}#sk-container-id-2 pre{padding: 0;}#sk-container-id-2 div.sk-toggleable {background-color: white;}#sk-container-id-2 label.sk-toggleable__label {cursor: pointer;display: block;width: 100%;margin-bottom: 0;padding: 0.3em;box-sizing: border-box;text-align: center;}#sk-container-id-2 label.sk-toggleable__label-arrow:before {content: \"▸\";float: left;margin-right: 0.25em;color: #696969;}#sk-container-id-2 label.sk-toggleable__label-arrow:hover:before {color: black;}#sk-container-id-2 div.sk-estimator:hover label.sk-toggleable__label-arrow:before {color: black;}#sk-container-id-2 div.sk-toggleable__content {max-height: 0;max-width: 0;overflow: hidden;text-align: left;background-color: #f0f8ff;}#sk-container-id-2 div.sk-toggleable__content pre {margin: 0.2em;color: black;border-radius: 0.25em;background-color: #f0f8ff;}#sk-container-id-2 input.sk-toggleable__control:checked~div.sk-toggleable__content {max-height: 200px;max-width: 100%;overflow: auto;}#sk-container-id-2 input.sk-toggleable__control:checked~label.sk-toggleable__label-arrow:before {content: \"▾\";}#sk-container-id-2 div.sk-estimator input.sk-toggleable__control:checked~label.sk-toggleable__label {background-color: #d4ebff;}#sk-container-id-2 div.sk-label input.sk-toggleable__control:checked~label.sk-toggleable__label {background-color: #d4ebff;}#sk-container-id-2 input.sk-hidden--visually {border: 0;clip: rect(1px 1px 1px 1px);clip: rect(1px, 1px, 1px, 1px);height: 1px;margin: -1px;overflow: hidden;padding: 0;position: absolute;width: 1px;}#sk-container-id-2 div.sk-estimator {font-family: monospace;background-color: #f0f8ff;border: 1px dotted black;border-radius: 0.25em;box-sizing: border-box;margin-bottom: 0.5em;}#sk-container-id-2 div.sk-estimator:hover {background-color: #d4ebff;}#sk-container-id-2 div.sk-parallel-item::after {content: \"\";width: 100%;border-bottom: 1px solid gray;flex-grow: 1;}#sk-container-id-2 div.sk-label:hover label.sk-toggleable__label {background-color: #d4ebff;}#sk-container-id-2 div.sk-serial::before {content: \"\";position: absolute;border-left: 1px solid gray;box-sizing: border-box;top: 0;bottom: 0;left: 50%;z-index: 0;}#sk-container-id-2 div.sk-serial {display: flex;flex-direction: column;align-items: center;background-color: white;padding-right: 0.2em;padding-left: 0.2em;position: relative;}#sk-container-id-2 div.sk-item {position: relative;z-index: 1;}#sk-container-id-2 div.sk-parallel {display: flex;align-items: stretch;justify-content: center;background-color: white;position: relative;}#sk-container-id-2 div.sk-item::before, #sk-container-id-2 div.sk-parallel-item::before {content: \"\";position: absolute;border-left: 1px solid gray;box-sizing: border-box;top: 0;bottom: 0;left: 50%;z-index: -1;}#sk-container-id-2 div.sk-parallel-item {display: flex;flex-direction: column;z-index: 1;position: relative;background-color: white;}#sk-container-id-2 div.sk-parallel-item:first-child::after {align-self: flex-end;width: 50%;}#sk-container-id-2 div.sk-parallel-item:last-child::after {align-self: flex-start;width: 50%;}#sk-container-id-2 div.sk-parallel-item:only-child::after {width: 0;}#sk-container-id-2 div.sk-dashed-wrapped {border: 1px dashed gray;margin: 0 0.4em 0.5em 0.4em;box-sizing: border-box;padding-bottom: 0.4em;background-color: white;}#sk-container-id-2 div.sk-label label {font-family: monospace;font-weight: bold;display: inline-block;line-height: 1.2em;}#sk-container-id-2 div.sk-label-container {text-align: center;}#sk-container-id-2 div.sk-container {/* jupyter's `normalize.less` sets `[hidden] { display: none; }` but bootstrap.min.css set `[hidden] { display: none !important; }` so we also need the `!important` here to be able to override the default hidden behavior on the sphinx rendered scikit-learn.org. See: https://github.com/scikit-learn/scikit-learn/issues/21755 */display: inline-block !important;position: relative;}#sk-container-id-2 div.sk-text-repr-fallback {display: none;}</style><div id=\"sk-container-id-2\" class=\"sk-top-container\"><div class=\"sk-text-repr-fallback\"><pre>KMeans(n_clusters=4)</pre><b>In a Jupyter environment, please rerun this cell to show the HTML representation or trust the notebook. <br />On GitHub, the HTML representation is unable to render, please try loading this page with nbviewer.org.</b></div><div class=\"sk-container\" hidden><div class=\"sk-item\"><div class=\"sk-estimator sk-toggleable\"><input class=\"sk-toggleable__control sk-hidden--visually\" id=\"sk-estimator-id-2\" type=\"checkbox\" checked><label for=\"sk-estimator-id-2\" class=\"sk-toggleable__label sk-toggleable__label-arrow\">KMeans</label><div class=\"sk-toggleable__content\"><pre>KMeans(n_clusters=4)</pre></div></div></div></div></div>"
      ],
      "text/plain": [
       "KMeans(n_clusters=4)"
      ]
     },
     "execution_count": 92,
     "metadata": {},
     "output_type": "execute_result"
    }
   ],
   "source": [
    "# Fit the k-means object to the data.\n",
    "\n",
    "kmeans.fit(listings)"
   ]
  },
  {
   "cell_type": "markdown",
   "id": "0ea9f3aa",
   "metadata": {},
   "source": [
    "Attach a new column to your dataframe with the resulting clusters as shown in the Exercise. This will allow you to create a visualization using your clusters."
   ]
  },
  {
   "cell_type": "code",
   "execution_count": 93,
   "id": "0c9d2077",
   "metadata": {},
   "outputs": [
    {
     "name": "stderr",
     "output_type": "stream",
     "text": [
      "/Users/renataherrera/Documents/anaconda3/lib/python3.11/site-packages/sklearn/cluster/_kmeans.py:1412: FutureWarning: The default value of `n_init` will change from 10 to 'auto' in 1.4. Set the value of `n_init` explicitly to suppress the warning\n",
      "  super()._check_params_vs_input(X, default_n_init=10)\n"
     ]
    }
   ],
   "source": [
    "#creating column in df with values corresponding to clusters \n",
    "listings['clusters'] = kmeans.fit_predict(listings)"
   ]
  },
  {
   "cell_type": "code",
   "execution_count": 94,
   "id": "7054dea1",
   "metadata": {},
   "outputs": [
    {
     "data": {
      "text/html": [
       "<div>\n",
       "<style scoped>\n",
       "    .dataframe tbody tr th:only-of-type {\n",
       "        vertical-align: middle;\n",
       "    }\n",
       "\n",
       "    .dataframe tbody tr th {\n",
       "        vertical-align: top;\n",
       "    }\n",
       "\n",
       "    .dataframe thead th {\n",
       "        text-align: right;\n",
       "    }\n",
       "</style>\n",
       "<table border=\"1\" class=\"dataframe\">\n",
       "  <thead>\n",
       "    <tr style=\"text-align: right;\">\n",
       "      <th></th>\n",
       "      <th>price</th>\n",
       "      <th>no_of_reviews</th>\n",
       "      <th>availability_365</th>\n",
       "      <th>host_listings_count</th>\n",
       "      <th>clusters</th>\n",
       "    </tr>\n",
       "  </thead>\n",
       "  <tbody>\n",
       "    <tr>\n",
       "      <th>0</th>\n",
       "      <td>125.0</td>\n",
       "      <td>771</td>\n",
       "      <td>290</td>\n",
       "      <td>2</td>\n",
       "      <td>2</td>\n",
       "    </tr>\n",
       "    <tr>\n",
       "      <th>1</th>\n",
       "      <td>65.0</td>\n",
       "      <td>93</td>\n",
       "      <td>102</td>\n",
       "      <td>2</td>\n",
       "      <td>1</td>\n",
       "    </tr>\n",
       "    <tr>\n",
       "      <th>2</th>\n",
       "      <td>62.0</td>\n",
       "      <td>1</td>\n",
       "      <td>200</td>\n",
       "      <td>1</td>\n",
       "      <td>0</td>\n",
       "    </tr>\n",
       "    <tr>\n",
       "      <th>3</th>\n",
       "      <td>165.0</td>\n",
       "      <td>493</td>\n",
       "      <td>0</td>\n",
       "      <td>1</td>\n",
       "      <td>2</td>\n",
       "    </tr>\n",
       "    <tr>\n",
       "      <th>4</th>\n",
       "      <td>255.0</td>\n",
       "      <td>46</td>\n",
       "      <td>364</td>\n",
       "      <td>5</td>\n",
       "      <td>0</td>\n",
       "    </tr>\n",
       "  </tbody>\n",
       "</table>\n",
       "</div>"
      ],
      "text/plain": [
       "   price  no_of_reviews  availability_365  host_listings_count  clusters\n",
       "0  125.0            771               290                    2         2\n",
       "1   65.0             93               102                    2         1\n",
       "2   62.0              1               200                    1         0\n",
       "3  165.0            493                 0                    1         2\n",
       "4  255.0             46               364                    5         0"
      ]
     },
     "execution_count": 94,
     "metadata": {},
     "output_type": "execute_result"
    }
   ],
   "source": [
    "#checking df and viewing colunns created\n",
    "listings.head()"
   ]
  },
  {
   "cell_type": "code",
   "execution_count": 95,
   "id": "97703e5b",
   "metadata": {},
   "outputs": [
    {
     "data": {
      "text/plain": [
       "clusters\n",
       "1    26\n",
       "0    21\n",
       "2     7\n",
       "3     3\n",
       "Name: count, dtype: int64"
      ]
     },
     "execution_count": 95,
     "metadata": {},
     "output_type": "execute_result"
    }
   ],
   "source": [
    "#counting the clusters\n",
    "listings['clusters'].value_counts()"
   ]
  },
  {
   "cell_type": "markdown",
   "id": "b0fb4919",
   "metadata": {},
   "source": [
    "Note that every time you run the algorithm, it will assign a different number to the clusters. The clusters themselves won’t change—they will always include the same data points, no matter how many times you run the algorithm. It’s just that the number label ASSIGNED to the cluster could be different. For instance, the number two cluster in the image above has 280 data points. The next time you run this algorithm, it could be the number ONE cluster that has 280 data points."
   ]
  },
  {
   "cell_type": "markdown",
   "id": "dfd10ad4",
   "metadata": {},
   "source": [
    "Create a few different visualizations (e.g., scatterplots) using your clustered data. Try plotting different variables against each other to see the results in terms of the clusters."
   ]
  },
  {
   "cell_type": "markdown",
   "id": "0f918a7e",
   "metadata": {},
   "source": [
    "To note, rather than trying to prove a hypothesis, for instance, “the younger the house and the closer to a metro station, the higher the price,” you’re instead simply looking for possible patterns and insights to explore. \n",
    "\n",
    "Sometimes, you’ll have non-linear relationships that can’t be addressed by a linear regression, for instance, in the case of the “House Age” and “Distance to Metro” variables.\n",
    "\n",
    "This is where a cluster analysis can prove helpful because it offers a different kind of look into your data."
   ]
  },
  {
   "cell_type": "code",
   "execution_count": 96,
   "id": "b44e597d",
   "metadata": {},
   "outputs": [
    {
     "data": {
      "image/png": "[encoded data removed]",
      "text/plain": [
       "<Figure size 1200x800 with 1 Axes>"
      ]
     },
     "metadata": {},
     "output_type": "display_data"
    }
   ],
   "source": [
    "# Plotting the clusters for the \"price\" and \"no of reviews\" variables.\n",
    "\n",
    "plt.figure(figsize=(12,8))\n",
    "ax = sns.scatterplot(x=listings['no_of_reviews'], y=listings['price'], hue=kmeans.labels_, s=100) \n",
    "# Here, you're subsetting `X` for the x and y arguments to avoid using their labels. \n",
    "# `hue` takes the value of the attribute `kmeans.labels_`, which is the result of running the k-means algorithm.\n",
    "# `s` represents the size of the points you want to see in the plot.\n",
    "\n",
    "ax.grid(False) # This removes the grid from the background.\n",
    "plt.xlabel('no_of_reviews') # Label x-axis.\n",
    "plt.ylabel('price') # Label y-axis.\n",
    "plt.show()"
   ]
  },
  {
   "cell_type": "code",
   "execution_count": 97,
   "id": "28318ffc",
   "metadata": {},
   "outputs": [
    {
     "data": {
      "image/png": "[encoded data removed]",
      "text/plain": [
       "<Figure size 1200x800 with 1 Axes>"
      ]
     },
     "metadata": {},
     "output_type": "display_data"
    }
   ],
   "source": [
    "# Plotting the clusters for the \"price\" and \"availability_365\" variables.\n",
    "\n",
    "plt.figure(figsize=(12,8))\n",
    "ax = sns.scatterplot(x=listings['availability_365'], y=listings['price'], hue=kmeans.labels_, s=100) \n",
    "# Here, you're subsetting `X` for the x and y arguments to avoid using their labels. \n",
    "# `hue` takes the value of the attribute `kmeans.labels_`, which is the result of running the k-means algorithm.\n",
    "# `s` represents the size of the points you want to see in the plot.\n",
    "\n",
    "ax.grid(False) # This removes the grid from the background.\n",
    "plt.xlabel('availability_365') # Label x-axis.\n",
    "plt.ylabel('price') # Label y-axis.\n",
    "plt.show()"
   ]
  },
  {
   "cell_type": "code",
   "execution_count": 98,
   "id": "2841fe1d",
   "metadata": {},
   "outputs": [
    {
     "data": {
      "image/png": "[encoded data removed]",
      "text/plain": [
       "<Figure size 1200x800 with 1 Axes>"
      ]
     },
     "metadata": {},
     "output_type": "display_data"
    }
   ],
   "source": [
    "# Plotting the clusters for the \"price\" and \"host_listings_count\" variables.\n",
    "\n",
    "plt.figure(figsize=(12,8))\n",
    "ax = sns.scatterplot(x=listings['host_listings_count'], y=listings['price'], hue=kmeans.labels_, s=100) \n",
    "# Here, you're subsetting `X` for the x and y arguments to avoid using their labels. \n",
    "# `hue` takes the value of the attribute `kmeans.labels_`, which is the result of running the k-means algorithm.\n",
    "# `s` represents the size of the points you want to see in the plot.\n",
    "\n",
    "ax.grid(False) # This removes the grid from the background.\n",
    "plt.xlabel('host_listings_count') # Label x-axis.\n",
    "plt.ylabel('price') # Label y-axis.\n",
    "plt.show()"
   ]
  },
  {
   "cell_type": "markdown",
   "id": "e14c40dc",
   "metadata": {},
   "source": [
    "Discuss how and why the clusters make sense. If they don’t make sense, however, this is also useful insight, as it means you’ll need to explore the data further.\n",
    "Note down your thoughts in a markdown cell. Agreed, here with this sample set being very small the clusters themselves are "
   ]
  },
  {
   "cell_type": "markdown",
   "id": "ea08931e",
   "metadata": {},
   "source": [
    "Here you’re simply letting the algorithm look for patterns and using those patterns to create labels that didn’t previously exist. "
   ]
  },
  {
   "cell_type": "code",
   "execution_count": 99,
   "id": "39a8ed2e",
   "metadata": {},
   "outputs": [],
   "source": [
    "#runnning descriptive stats and renaming clusters\n",
    "listings.loc[listings['clusters'] == 3, 'clusters'] = 'dark pink'\n",
    "listings.loc[listings['clusters'] == 2, 'clusters'] = 'dark purple'\n",
    "listings.loc[listings['clusters'] == 1, 'clusters'] = 'purple'\n",
    "listings.loc[listings['clusters'] == 0, 'clusters'] = 'pink'"
   ]
  },
  {
   "cell_type": "code",
   "execution_count": 101,
   "id": "6302bbb9",
   "metadata": {},
   "outputs": [
    {
     "data": {
      "text/html": [
       "<div>\n",
       "<style scoped>\n",
       "    .dataframe tbody tr th:only-of-type {\n",
       "        vertical-align: middle;\n",
       "    }\n",
       "\n",
       "    .dataframe tbody tr th {\n",
       "        vertical-align: top;\n",
       "    }\n",
       "\n",
       "    .dataframe thead tr th {\n",
       "        text-align: left;\n",
       "    }\n",
       "\n",
       "    .dataframe thead tr:last-of-type th {\n",
       "        text-align: right;\n",
       "    }\n",
       "</style>\n",
       "<table border=\"1\" class=\"dataframe\">\n",
       "  <thead>\n",
       "    <tr>\n",
       "      <th></th>\n",
       "      <th colspan=\"2\" halign=\"left\">price</th>\n",
       "      <th colspan=\"2\" halign=\"left\">no_of_reviews</th>\n",
       "      <th colspan=\"2\" halign=\"left\">availability_365</th>\n",
       "    </tr>\n",
       "    <tr>\n",
       "      <th></th>\n",
       "      <th>mean</th>\n",
       "      <th>median</th>\n",
       "      <th>mean</th>\n",
       "      <th>median</th>\n",
       "      <th>mean</th>\n",
       "      <th>median</th>\n",
       "    </tr>\n",
       "    <tr>\n",
       "      <th>clusters</th>\n",
       "      <th></th>\n",
       "      <th></th>\n",
       "      <th></th>\n",
       "      <th></th>\n",
       "      <th></th>\n",
       "      <th></th>\n",
       "    </tr>\n",
       "  </thead>\n",
       "  <tbody>\n",
       "    <tr>\n",
       "      <th>dark pink</th>\n",
       "      <td>560.333333</td>\n",
       "      <td>490.0</td>\n",
       "      <td>14.666667</td>\n",
       "      <td>7.0</td>\n",
       "      <td>31.000000</td>\n",
       "      <td>4.0</td>\n",
       "    </tr>\n",
       "    <tr>\n",
       "      <th>dark purple</th>\n",
       "      <td>108.000000</td>\n",
       "      <td>99.0</td>\n",
       "      <td>571.000000</td>\n",
       "      <td>514.0</td>\n",
       "      <td>78.000000</td>\n",
       "      <td>7.0</td>\n",
       "    </tr>\n",
       "    <tr>\n",
       "      <th>pink</th>\n",
       "      <td>113.047619</td>\n",
       "      <td>100.0</td>\n",
       "      <td>38.523810</td>\n",
       "      <td>17.0</td>\n",
       "      <td>330.428571</td>\n",
       "      <td>361.0</td>\n",
       "    </tr>\n",
       "    <tr>\n",
       "      <th>purple</th>\n",
       "      <td>116.384615</td>\n",
       "      <td>133.5</td>\n",
       "      <td>89.615385</td>\n",
       "      <td>71.5</td>\n",
       "      <td>68.000000</td>\n",
       "      <td>77.0</td>\n",
       "    </tr>\n",
       "  </tbody>\n",
       "</table>\n",
       "</div>"
      ],
      "text/plain": [
       "                  price        no_of_reviews        availability_365       \n",
       "                   mean median          mean median             mean median\n",
       "clusters                                                                   \n",
       "dark pink    560.333333  490.0     14.666667    7.0        31.000000    4.0\n",
       "dark purple  108.000000   99.0    571.000000  514.0        78.000000    7.0\n",
       "pink         113.047619  100.0     38.523810   17.0       330.428571  361.0\n",
       "purple       116.384615  133.5     89.615385   71.5        68.000000   77.0"
      ]
     },
     "execution_count": 101,
     "metadata": {},
     "output_type": "execute_result"
    }
   ],
   "source": [
    "listings.groupby('clusters').agg({'price':['mean', 'median'], \n",
    "                         'no_of_reviews':['mean', 'median'], \n",
    "                         'availability_365':['mean', 'median']})"
   ]
  },
  {
   "cell_type": "markdown",
   "id": "39a0b4c1",
   "metadata": {},
   "source": [
    "Key Observations & Insight\n",
    "\n",
    "There are still some limitations in this analysis. For instance, wouldn’t it be much more interesting if you had more columns to explore? In addition, the data set itself is a bit small. To make more accurate conclusions, you’d want to have quite a bit more Airbnb data about an area.\n",
    "\n",
    "Also, for these clusters to be interpreted you would need to do further analyses and try to incorporate the outliers, as removing them would introduce bias. For example, the other factors may be skew results and show a more rented house in \"popularity\" based on price, when in fact it is only because of a densely populated neighbourhood within a \"popular\" area and there are limited options.\n",
    "\n",
    "Insight\n",
    "\n",
    "If the data points are concentrated in low values, the factors have minimal impact on overall score, in this case 'price'. Conversely, if data points exhibit a wide spread, it could potentially mean the factors have a greater significance on the overall.\n",
    "\n",
    "Clusters taking on an upward slope appearnce is suggestive of a postive relationship, possibly indicated with \"_\" factors and the \"price\"\n",
    "\n",
    "When considering descriptive stats, you are comparing the means and medians of these varying factors and how they effect the overall \"price\" factor. For example, you could potentially rule out that total number of reviews does not influence the price.  "
   ]
  },
  {
   "cell_type": "code",
   "execution_count": 102,
   "id": "f60d3612",
   "metadata": {},
   "outputs": [],
   "source": [
    "# saving clusters csv to folder\n",
    "listings.to_csv(os.path.join(path, 'Data','Prepared Data', 'clusters_listings.csv'))"
   ]
  }
 ],
 "metadata": {
  "kernelspec": {
   "display_name": "Python 3 (ipykernel)",
   "language": "python",
   "name": "python3"
  },
  "language_info": {
   "codemirror_mode": {
    "name": "ipython",
    "version": 3
   },
   "file_extension": ".py",
   "mimetype": "text/x-python",
   "name": "python",
   "nbconvert_exporter": "python",
   "pygments_lexer": "ipython3",
   "version": "3.11.5"
  }
 },
 "nbformat": 4,
 "nbformat_minor": 5
}
