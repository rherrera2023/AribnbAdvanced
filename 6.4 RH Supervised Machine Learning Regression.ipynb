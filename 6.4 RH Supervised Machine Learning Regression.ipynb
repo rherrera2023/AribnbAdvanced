{
 "cells": [
  {
   "cell_type": "markdown",
   "id": "c9297886",
   "metadata": {},
   "source": [
    "# This notebook contains\n",
    "\n",
    "# Importing libraries and data\n",
    "\n",
    "# Data cleaning\n",
    "\n",
    "# Data prep for regression analysis\n",
    "\n",
    "# Regression analysis\n",
    "\n",
    "# Bonus: Performance improvement after removing outliers"
   ]
  },
  {
   "cell_type": "code",
   "execution_count": 2,
   "id": "b89e0915",
   "metadata": {},
   "outputs": [],
   "source": [
    "import pandas as pd\n",
    "import numpy as np\n",
    "import seaborn as sns\n",
    "import matplotlib\n",
    "import matplotlib.pyplot as plt\n",
    "import os\n",
    "import sklearn\n",
    "from sklearn.model_selection import train_test_split \n",
    "from sklearn.linear_model import LinearRegression\n",
    "from sklearn.metrics import mean_squared_error, r2_score"
   ]
  },
  {
   "cell_type": "code",
   "execution_count": 3,
   "id": "7991d588",
   "metadata": {},
   "outputs": [],
   "source": [
    "# This option ensures that the graphs you create are displayed within the notebook without the need to \"call\" them specifically.\n",
    "\n",
    "%matplotlib inline"
   ]
  },
  {
   "cell_type": "code",
   "execution_count": 4,
   "id": "27a734e3",
   "metadata": {},
   "outputs": [],
   "source": [
    "#Defining path\n",
    "path = r'/Users/renataherrera/Documents/CF RH 2023-2024/CF DATA IMMERSION/CF RH A6 Advanced Analytics Vancouver'"
   ]
  },
  {
   "cell_type": "code",
   "execution_count": 5,
   "id": "e1445fb9",
   "metadata": {},
   "outputs": [
    {
     "data": {
      "text/plain": [
       "'/Users/renataherrera/Documents/CF RH 2023-2024/CF DATA IMMERSION/CF RH A6 Advanced Analytics Vancouver'"
      ]
     },
     "execution_count": 5,
     "metadata": {},
     "output_type": "execute_result"
    }
   ],
   "source": [
    "#double checking path\n",
    "path"
   ]
  },
  {
   "cell_type": "code",
   "execution_count": 7,
   "id": "f8547f67",
   "metadata": {},
   "outputs": [
    {
     "data": {
      "text/html": [
       "<div>\n",
       "<style scoped>\n",
       "    .dataframe tbody tr th:only-of-type {\n",
       "        vertical-align: middle;\n",
       "    }\n",
       "\n",
       "    .dataframe tbody tr th {\n",
       "        vertical-align: top;\n",
       "    }\n",
       "\n",
       "    .dataframe thead th {\n",
       "        text-align: right;\n",
       "    }\n",
       "</style>\n",
       "<table border=\"1\" class=\"dataframe\">\n",
       "  <thead>\n",
       "    <tr style=\"text-align: right;\">\n",
       "      <th></th>\n",
       "      <th>Unnamed: 0</th>\n",
       "      <th>id</th>\n",
       "      <th>neighbourhood</th>\n",
       "      <th>latitude</th>\n",
       "      <th>longitude</th>\n",
       "      <th>room_type</th>\n",
       "      <th>price</th>\n",
       "      <th>number_of_reviews</th>\n",
       "      <th>availability_365</th>\n",
       "      <th>calculated_host_listings_count</th>\n",
       "    </tr>\n",
       "  </thead>\n",
       "  <tbody>\n",
       "    <tr>\n",
       "      <th>0</th>\n",
       "      <td>0</td>\n",
       "      <td>13188</td>\n",
       "      <td>Riley Park</td>\n",
       "      <td>49.247730</td>\n",
       "      <td>-123.105090</td>\n",
       "      <td>Entire home/apt</td>\n",
       "      <td>150.0</td>\n",
       "      <td>283</td>\n",
       "      <td>0</td>\n",
       "      <td>1</td>\n",
       "    </tr>\n",
       "    <tr>\n",
       "      <th>1</th>\n",
       "      <td>1</td>\n",
       "      <td>13221</td>\n",
       "      <td>Riley Park</td>\n",
       "      <td>49.254890</td>\n",
       "      <td>-123.097080</td>\n",
       "      <td>Entire home/apt</td>\n",
       "      <td>120.0</td>\n",
       "      <td>15</td>\n",
       "      <td>363</td>\n",
       "      <td>1</td>\n",
       "    </tr>\n",
       "    <tr>\n",
       "      <th>2</th>\n",
       "      <td>2</td>\n",
       "      <td>13358</td>\n",
       "      <td>Downtown</td>\n",
       "      <td>49.281174</td>\n",
       "      <td>-123.125931</td>\n",
       "      <td>Entire home/apt</td>\n",
       "      <td>165.0</td>\n",
       "      <td>493</td>\n",
       "      <td>0</td>\n",
       "      <td>1</td>\n",
       "    </tr>\n",
       "    <tr>\n",
       "      <th>3</th>\n",
       "      <td>3</td>\n",
       "      <td>13490</td>\n",
       "      <td>Kensington-Cedar Cottage</td>\n",
       "      <td>49.256220</td>\n",
       "      <td>-123.066070</td>\n",
       "      <td>Entire home/apt</td>\n",
       "      <td>150.0</td>\n",
       "      <td>101</td>\n",
       "      <td>92</td>\n",
       "      <td>1</td>\n",
       "    </tr>\n",
       "    <tr>\n",
       "      <th>4</th>\n",
       "      <td>4</td>\n",
       "      <td>14267</td>\n",
       "      <td>Kensington-Cedar Cottage</td>\n",
       "      <td>49.249220</td>\n",
       "      <td>-123.081390</td>\n",
       "      <td>Entire home/apt</td>\n",
       "      <td>150.0</td>\n",
       "      <td>33</td>\n",
       "      <td>17</td>\n",
       "      <td>1</td>\n",
       "    </tr>\n",
       "  </tbody>\n",
       "</table>\n",
       "</div>"
      ],
      "text/plain": [
       "   Unnamed: 0     id             neighbourhood   latitude   longitude  \\\n",
       "0           0  13188                Riley Park  49.247730 -123.105090   \n",
       "1           1  13221                Riley Park  49.254890 -123.097080   \n",
       "2           2  13358                  Downtown  49.281174 -123.125931   \n",
       "3           3  13490  Kensington-Cedar Cottage  49.256220 -123.066070   \n",
       "4           4  14267  Kensington-Cedar Cottage  49.249220 -123.081390   \n",
       "\n",
       "         room_type  price  number_of_reviews  availability_365  \\\n",
       "0  Entire home/apt  150.0                283                 0   \n",
       "1  Entire home/apt  120.0                 15               363   \n",
       "2  Entire home/apt  165.0                493                 0   \n",
       "3  Entire home/apt  150.0                101                92   \n",
       "4  Entire home/apt  150.0                 33                17   \n",
       "\n",
       "   calculated_host_listings_count  \n",
       "0                               1  \n",
       "1                               1  \n",
       "2                               1  \n",
       "3                               1  \n",
       "4                               1  "
      ]
     },
     "execution_count": 7,
     "metadata": {},
     "output_type": "execute_result"
    }
   ],
   "source": [
    "#Creating file path and loading the data and checking\n",
    "listings = pd.read_csv(os.path.join(path, 'Data', 'Prepared Data', 'cleaned_van_geo.csv'))\n",
    "listings.head()"
   ]
  },
  {
   "cell_type": "markdown",
   "id": "941b349b",
   "metadata": {},
   "source": [
    "# Data Cleaning"
   ]
  },
  {
   "cell_type": "code",
   "execution_count": 8,
   "id": "c9d3dad9",
   "metadata": {},
   "outputs": [],
   "source": [
    "#dropping some Unnamed\n",
    "listings.drop(['Unnamed: 0'], axis = 1, inplace=True)"
   ]
  },
  {
   "cell_type": "code",
   "execution_count": 9,
   "id": "379fe99d",
   "metadata": {},
   "outputs": [
    {
     "data": {
      "text/plain": [
       "(6684, 9)"
      ]
     },
     "execution_count": 9,
     "metadata": {},
     "output_type": "execute_result"
    }
   ],
   "source": [
    "# Checking\n",
    "listings.shape"
   ]
  },
  {
   "cell_type": "code",
   "execution_count": 10,
   "id": "cb03b02f",
   "metadata": {},
   "outputs": [
    {
     "data": {
      "text/html": [
       "<div>\n",
       "<style scoped>\n",
       "    .dataframe tbody tr th:only-of-type {\n",
       "        vertical-align: middle;\n",
       "    }\n",
       "\n",
       "    .dataframe tbody tr th {\n",
       "        vertical-align: top;\n",
       "    }\n",
       "\n",
       "    .dataframe thead th {\n",
       "        text-align: right;\n",
       "    }\n",
       "</style>\n",
       "<table border=\"1\" class=\"dataframe\">\n",
       "  <thead>\n",
       "    <tr style=\"text-align: right;\">\n",
       "      <th></th>\n",
       "      <th>id</th>\n",
       "      <th>neighbourhood</th>\n",
       "      <th>latitude</th>\n",
       "      <th>longitude</th>\n",
       "      <th>room_type</th>\n",
       "      <th>price</th>\n",
       "      <th>number_of_reviews</th>\n",
       "      <th>availability_365</th>\n",
       "      <th>calculated_host_listings_count</th>\n",
       "    </tr>\n",
       "  </thead>\n",
       "  <tbody>\n",
       "    <tr>\n",
       "      <th>0</th>\n",
       "      <td>13188</td>\n",
       "      <td>Riley Park</td>\n",
       "      <td>49.247730</td>\n",
       "      <td>-123.105090</td>\n",
       "      <td>Entire home/apt</td>\n",
       "      <td>150.0</td>\n",
       "      <td>283</td>\n",
       "      <td>0</td>\n",
       "      <td>1</td>\n",
       "    </tr>\n",
       "    <tr>\n",
       "      <th>1</th>\n",
       "      <td>13221</td>\n",
       "      <td>Riley Park</td>\n",
       "      <td>49.254890</td>\n",
       "      <td>-123.097080</td>\n",
       "      <td>Entire home/apt</td>\n",
       "      <td>120.0</td>\n",
       "      <td>15</td>\n",
       "      <td>363</td>\n",
       "      <td>1</td>\n",
       "    </tr>\n",
       "    <tr>\n",
       "      <th>2</th>\n",
       "      <td>13358</td>\n",
       "      <td>Downtown</td>\n",
       "      <td>49.281174</td>\n",
       "      <td>-123.125931</td>\n",
       "      <td>Entire home/apt</td>\n",
       "      <td>165.0</td>\n",
       "      <td>493</td>\n",
       "      <td>0</td>\n",
       "      <td>1</td>\n",
       "    </tr>\n",
       "    <tr>\n",
       "      <th>3</th>\n",
       "      <td>13490</td>\n",
       "      <td>Kensington-Cedar Cottage</td>\n",
       "      <td>49.256220</td>\n",
       "      <td>-123.066070</td>\n",
       "      <td>Entire home/apt</td>\n",
       "      <td>150.0</td>\n",
       "      <td>101</td>\n",
       "      <td>92</td>\n",
       "      <td>1</td>\n",
       "    </tr>\n",
       "    <tr>\n",
       "      <th>4</th>\n",
       "      <td>14267</td>\n",
       "      <td>Kensington-Cedar Cottage</td>\n",
       "      <td>49.249220</td>\n",
       "      <td>-123.081390</td>\n",
       "      <td>Entire home/apt</td>\n",
       "      <td>150.0</td>\n",
       "      <td>33</td>\n",
       "      <td>17</td>\n",
       "      <td>1</td>\n",
       "    </tr>\n",
       "  </tbody>\n",
       "</table>\n",
       "</div>"
      ],
      "text/plain": [
       "      id             neighbourhood   latitude   longitude        room_type  \\\n",
       "0  13188                Riley Park  49.247730 -123.105090  Entire home/apt   \n",
       "1  13221                Riley Park  49.254890 -123.097080  Entire home/apt   \n",
       "2  13358                  Downtown  49.281174 -123.125931  Entire home/apt   \n",
       "3  13490  Kensington-Cedar Cottage  49.256220 -123.066070  Entire home/apt   \n",
       "4  14267  Kensington-Cedar Cottage  49.249220 -123.081390  Entire home/apt   \n",
       "\n",
       "   price  number_of_reviews  availability_365  calculated_host_listings_count  \n",
       "0  150.0                283                 0                               1  \n",
       "1  120.0                 15               363                               1  \n",
       "2  165.0                493                 0                               1  \n",
       "3  150.0                101                92                               1  \n",
       "4  150.0                 33                17                               1  "
      ]
     },
     "execution_count": 10,
     "metadata": {},
     "output_type": "execute_result"
    }
   ],
   "source": [
    "# Viewing columns\n",
    "listings.head()"
   ]
  },
  {
   "cell_type": "code",
   "execution_count": 11,
   "id": "4729283e",
   "metadata": {},
   "outputs": [
    {
     "data": {
      "text/plain": [
       "Index(['id', 'neighbourhood', 'latitude', 'longitude', 'room_type', 'price',\n",
       "       'number_of_reviews', 'availability_365',\n",
       "       'calculated_host_listings_count'],\n",
       "      dtype='object')"
      ]
     },
     "execution_count": 11,
     "metadata": {},
     "output_type": "execute_result"
    }
   ],
   "source": [
    "listings.columns"
   ]
  },
  {
   "cell_type": "code",
   "execution_count": 13,
   "id": "b33ba129",
   "metadata": {},
   "outputs": [
    {
     "data": {
      "text/plain": [
       "id                                0\n",
       "neighbourhood                     0\n",
       "latitude                          0\n",
       "longitude                         0\n",
       "room_type                         0\n",
       "price                             0\n",
       "number_of_reviews                 0\n",
       "availability_365                  0\n",
       "calculated_host_listings_count    0\n",
       "dtype: int64"
      ]
     },
     "execution_count": 13,
     "metadata": {},
     "output_type": "execute_result"
    }
   ],
   "source": [
    "# Check for missing values\n",
    "listings.isnull().sum()"
   ]
  },
  {
   "cell_type": "code",
   "execution_count": 14,
   "id": "c0058b4b",
   "metadata": {},
   "outputs": [],
   "source": [
    "dups = listings.duplicated()"
   ]
  },
  {
   "cell_type": "markdown",
   "id": "f5b7aa91",
   "metadata": {},
   "source": [
    "# no missing values\n",
    "# no duplicates"
   ]
  },
  {
   "cell_type": "code",
   "execution_count": 15,
   "id": "e1484cb6",
   "metadata": {},
   "outputs": [
    {
     "name": "stderr",
     "output_type": "stream",
     "text": [
      "/var/folders/n8/7047v_m52_s6rgl3299kyhgc0000gn/T/ipykernel_49050/4256950940.py:1: UserWarning: \n",
      "\n",
      "`distplot` is a deprecated function and will be removed in seaborn v0.14.0.\n",
      "\n",
      "Please adapt your code to use either `displot` (a figure-level function with\n",
      "similar flexibility) or `histplot` (an axes-level function for histograms).\n",
      "\n",
      "For a guide to updating your code to use the new functions, please see\n",
      "https://gist.github.com/mwaskom/de44147ed2974457ad6372750bbe5751\n",
      "\n",
      "  sns.distplot(listings['price'], bins=25) # Shows extreme values\n"
     ]
    },
    {
     "data": {
      "text/plain": [
       "<Axes: xlabel='price', ylabel='Density'>"
      ]
     },
     "execution_count": 15,
     "metadata": {},
     "output_type": "execute_result"
    },
    {
     "data": {
      "image/png": "[encoded data removed]",
      "text/plain": [
       "<Figure size 640x480 with 1 Axes>"
      ]
     },
     "metadata": {},
     "output_type": "display_data"
    }
   ],
   "source": [
    "sns.distplot(listings['price'], bins=25) # Shows extreme values\n",
    "\n",
    "# Some of the outliers in the high values may need to be removed, but let's try without doing so first."
   ]
  },
  {
   "cell_type": "code",
   "execution_count": 17,
   "id": "7382f068",
   "metadata": {},
   "outputs": [
    {
     "data": {
      "text/plain": [
       "180.15604428485938"
      ]
     },
     "execution_count": 17,
     "metadata": {},
     "output_type": "execute_result"
    }
   ],
   "source": [
    "#checking the mean, median, and max\n",
    "listings['price'].mean()\n"
   ]
  },
  {
   "cell_type": "code",
   "execution_count": 18,
   "id": "d0b00194",
   "metadata": {},
   "outputs": [
    {
     "data": {
      "text/plain": [
       "139.0"
      ]
     },
     "execution_count": 18,
     "metadata": {},
     "output_type": "execute_result"
    }
   ],
   "source": [
    "listings['price'].median()"
   ]
  },
  {
   "cell_type": "code",
   "execution_count": 19,
   "id": "42c49ddc",
   "metadata": {},
   "outputs": [
    {
     "data": {
      "text/plain": [
       "3500.0"
      ]
     },
     "execution_count": 19,
     "metadata": {},
     "output_type": "execute_result"
    }
   ],
   "source": [
    "listings['price'].max()"
   ]
  },
  {
   "cell_type": "code",
   "execution_count": 23,
   "id": "be03e3a9",
   "metadata": {},
   "outputs": [
    {
     "data": {
      "image/png": "[encoded data removed]",
      "text/plain": [
       "<Figure size 640x480 with 1 Axes>"
      ]
     },
     "metadata": {},
     "output_type": "display_data"
    }
   ],
   "source": [
    "# Data Prep for Regression Analysis\n",
    "# Create a scatterplot using matplotlib for another look at how the chosen variables plot against each other.\n",
    "\n",
    "listings.plot(x = 'price', y='availability_365',style='o') # The style option creates a scatterplot; without it, we only have lines.\n",
    "plt.title('Price vs. Availability')  \n",
    "plt.xlabel('price')  \n",
    "plt.ylabel('availability_365')  \n",
    "plt.show()"
   ]
  },
  {
   "cell_type": "code",
   "execution_count": 24,
   "id": "3db66d19",
   "metadata": {},
   "outputs": [
    {
     "data": {
      "image/png": "[encoded data removed]",
      "text/plain": [
       "<Figure size 640x480 with 1 Axes>"
      ]
     },
     "metadata": {},
     "output_type": "display_data"
    }
   ],
   "source": [
    "# Data Prep for Regression Analysis\n",
    "# Create a scatterplot using matplotlib for another look at how the chosen variables plot against each other.\n",
    "\n",
    "listings.plot(x = 'price', y='number_of_reviews',style='o') # The style option creates a scatterplot; without it, we only have lines.\n",
    "plt.title('Price vs. number_of_reviews')  \n",
    "plt.xlabel('price')  \n",
    "plt.ylabel('number_of_reviews')  \n",
    "plt.show()"
   ]
  },
  {
   "cell_type": "code",
   "execution_count": 25,
   "id": "91e5e333",
   "metadata": {
    "scrolled": true
   },
   "outputs": [
    {
     "data": {
      "image/png": "[encoded data removed]",
      "text/plain": [
       "<Figure size 640x480 with 1 Axes>"
      ]
     },
     "metadata": {},
     "output_type": "display_data"
    }
   ],
   "source": [
    "# Data Prep for Regression Analysis\n",
    "# Create a scatterplot using matplotlib for another look at how the chosen variables plot against each other.\n",
    "\n",
    "listings.plot(x = 'price', y='calculated_host_listings_count',style='o') # The style option creates a scatterplot; without it, we only have lines.\n",
    "plt.title('Price vs. ')  \n",
    "plt.xlabel('price')  \n",
    "plt.ylabel('calculated_host_listings_count')  \n",
    "plt.show()"
   ]
  },
  {
   "cell_type": "markdown",
   "id": "06785f9c",
   "metadata": {},
   "source": [
    "#Variables to include are price and average number of reviews in neighbourhoods"
   ]
  },
  {
   "cell_type": "code",
   "execution_count": 32,
   "id": "e645b57c",
   "metadata": {},
   "outputs": [],
   "source": [
    "hoods_price = listings.groupby('neighbourhood')['price'].count().reset_index()"
   ]
  },
  {
   "cell_type": "code",
   "execution_count": 33,
   "id": "4595cc4b",
   "metadata": {},
   "outputs": [
    {
     "data": {
      "text/html": [
       "<div>\n",
       "<style scoped>\n",
       "    .dataframe tbody tr th:only-of-type {\n",
       "        vertical-align: middle;\n",
       "    }\n",
       "\n",
       "    .dataframe tbody tr th {\n",
       "        vertical-align: top;\n",
       "    }\n",
       "\n",
       "    .dataframe thead th {\n",
       "        text-align: right;\n",
       "    }\n",
       "</style>\n",
       "<table border=\"1\" class=\"dataframe\">\n",
       "  <thead>\n",
       "    <tr style=\"text-align: right;\">\n",
       "      <th></th>\n",
       "      <th>neighbourhood</th>\n",
       "      <th>price</th>\n",
       "    </tr>\n",
       "  </thead>\n",
       "  <tbody>\n",
       "    <tr>\n",
       "      <th>0</th>\n",
       "      <td>Arbutus Ridge</td>\n",
       "      <td>116</td>\n",
       "    </tr>\n",
       "    <tr>\n",
       "      <th>1</th>\n",
       "      <td>Downtown</td>\n",
       "      <td>1742</td>\n",
       "    </tr>\n",
       "    <tr>\n",
       "      <th>2</th>\n",
       "      <td>Downtown Eastside</td>\n",
       "      <td>376</td>\n",
       "    </tr>\n",
       "    <tr>\n",
       "      <th>3</th>\n",
       "      <td>Dunbar Southlands</td>\n",
       "      <td>207</td>\n",
       "    </tr>\n",
       "    <tr>\n",
       "      <th>4</th>\n",
       "      <td>Fairview</td>\n",
       "      <td>180</td>\n",
       "    </tr>\n",
       "    <tr>\n",
       "      <th>5</th>\n",
       "      <td>Grandview-Woodland</td>\n",
       "      <td>282</td>\n",
       "    </tr>\n",
       "    <tr>\n",
       "      <th>6</th>\n",
       "      <td>Hastings-Sunrise</td>\n",
       "      <td>272</td>\n",
       "    </tr>\n",
       "    <tr>\n",
       "      <th>7</th>\n",
       "      <td>Kensington-Cedar Cottage</td>\n",
       "      <td>405</td>\n",
       "    </tr>\n",
       "    <tr>\n",
       "      <th>8</th>\n",
       "      <td>Kerrisdale</td>\n",
       "      <td>78</td>\n",
       "    </tr>\n",
       "    <tr>\n",
       "      <th>9</th>\n",
       "      <td>Killarney</td>\n",
       "      <td>81</td>\n",
       "    </tr>\n",
       "    <tr>\n",
       "      <th>10</th>\n",
       "      <td>Kitsilano</td>\n",
       "      <td>487</td>\n",
       "    </tr>\n",
       "    <tr>\n",
       "      <th>11</th>\n",
       "      <td>Marpole</td>\n",
       "      <td>188</td>\n",
       "    </tr>\n",
       "    <tr>\n",
       "      <th>12</th>\n",
       "      <td>Mount Pleasant</td>\n",
       "      <td>437</td>\n",
       "    </tr>\n",
       "    <tr>\n",
       "      <th>13</th>\n",
       "      <td>Oakridge</td>\n",
       "      <td>134</td>\n",
       "    </tr>\n",
       "    <tr>\n",
       "      <th>14</th>\n",
       "      <td>Renfrew-Collingwood</td>\n",
       "      <td>241</td>\n",
       "    </tr>\n",
       "    <tr>\n",
       "      <th>15</th>\n",
       "      <td>Riley Park</td>\n",
       "      <td>301</td>\n",
       "    </tr>\n",
       "    <tr>\n",
       "      <th>16</th>\n",
       "      <td>Shaughnessy</td>\n",
       "      <td>87</td>\n",
       "    </tr>\n",
       "    <tr>\n",
       "      <th>17</th>\n",
       "      <td>South Cambie</td>\n",
       "      <td>72</td>\n",
       "    </tr>\n",
       "    <tr>\n",
       "      <th>18</th>\n",
       "      <td>Strathcona</td>\n",
       "      <td>35</td>\n",
       "    </tr>\n",
       "    <tr>\n",
       "      <th>19</th>\n",
       "      <td>Sunset</td>\n",
       "      <td>174</td>\n",
       "    </tr>\n",
       "    <tr>\n",
       "      <th>20</th>\n",
       "      <td>Victoria-Fraserview</td>\n",
       "      <td>159</td>\n",
       "    </tr>\n",
       "    <tr>\n",
       "      <th>21</th>\n",
       "      <td>West End</td>\n",
       "      <td>512</td>\n",
       "    </tr>\n",
       "    <tr>\n",
       "      <th>22</th>\n",
       "      <td>West Point Grey</td>\n",
       "      <td>118</td>\n",
       "    </tr>\n",
       "  </tbody>\n",
       "</table>\n",
       "</div>"
      ],
      "text/plain": [
       "               neighbourhood  price\n",
       "0              Arbutus Ridge    116\n",
       "1                   Downtown   1742\n",
       "2          Downtown Eastside    376\n",
       "3          Dunbar Southlands    207\n",
       "4                   Fairview    180\n",
       "5         Grandview-Woodland    282\n",
       "6           Hastings-Sunrise    272\n",
       "7   Kensington-Cedar Cottage    405\n",
       "8                 Kerrisdale     78\n",
       "9                  Killarney     81\n",
       "10                 Kitsilano    487\n",
       "11                   Marpole    188\n",
       "12            Mount Pleasant    437\n",
       "13                  Oakridge    134\n",
       "14       Renfrew-Collingwood    241\n",
       "15                Riley Park    301\n",
       "16               Shaughnessy     87\n",
       "17              South Cambie     72\n",
       "18                Strathcona     35\n",
       "19                    Sunset    174\n",
       "20       Victoria-Fraserview    159\n",
       "21                  West End    512\n",
       "22           West Point Grey    118"
      ]
     },
     "execution_count": 33,
     "metadata": {},
     "output_type": "execute_result"
    }
   ],
   "source": [
    "hoods_price"
   ]
  },
  {
   "cell_type": "code",
   "execution_count": 34,
   "id": "610349d8",
   "metadata": {},
   "outputs": [],
   "source": [
    "hoods_aggregated = listings.groupby('neighbourhood').agg({\n",
    "    'price': 'count',          # Count of price\n",
    "    'number_of_reviews': 'mean'              # Average number of reviews\n",
    "}).reset_index()\n"
   ]
  },
  {
   "cell_type": "code",
   "execution_count": 35,
   "id": "2c2c1ab0",
   "metadata": {},
   "outputs": [
    {
     "data": {
      "text/html": [
       "<div>\n",
       "<style scoped>\n",
       "    .dataframe tbody tr th:only-of-type {\n",
       "        vertical-align: middle;\n",
       "    }\n",
       "\n",
       "    .dataframe tbody tr th {\n",
       "        vertical-align: top;\n",
       "    }\n",
       "\n",
       "    .dataframe thead th {\n",
       "        text-align: right;\n",
       "    }\n",
       "</style>\n",
       "<table border=\"1\" class=\"dataframe\">\n",
       "  <thead>\n",
       "    <tr style=\"text-align: right;\">\n",
       "      <th></th>\n",
       "      <th>neighbourhood</th>\n",
       "      <th>price</th>\n",
       "      <th>number_of_reviews</th>\n",
       "    </tr>\n",
       "  </thead>\n",
       "  <tbody>\n",
       "    <tr>\n",
       "      <th>0</th>\n",
       "      <td>Arbutus Ridge</td>\n",
       "      <td>116</td>\n",
       "      <td>38.818966</td>\n",
       "    </tr>\n",
       "    <tr>\n",
       "      <th>1</th>\n",
       "      <td>Downtown</td>\n",
       "      <td>1742</td>\n",
       "      <td>39.576923</td>\n",
       "    </tr>\n",
       "    <tr>\n",
       "      <th>2</th>\n",
       "      <td>Downtown Eastside</td>\n",
       "      <td>376</td>\n",
       "      <td>57.946809</td>\n",
       "    </tr>\n",
       "    <tr>\n",
       "      <th>3</th>\n",
       "      <td>Dunbar Southlands</td>\n",
       "      <td>207</td>\n",
       "      <td>24.971014</td>\n",
       "    </tr>\n",
       "    <tr>\n",
       "      <th>4</th>\n",
       "      <td>Fairview</td>\n",
       "      <td>180</td>\n",
       "      <td>21.266667</td>\n",
       "    </tr>\n",
       "    <tr>\n",
       "      <th>5</th>\n",
       "      <td>Grandview-Woodland</td>\n",
       "      <td>282</td>\n",
       "      <td>60.489362</td>\n",
       "    </tr>\n",
       "    <tr>\n",
       "      <th>6</th>\n",
       "      <td>Hastings-Sunrise</td>\n",
       "      <td>272</td>\n",
       "      <td>49.069853</td>\n",
       "    </tr>\n",
       "    <tr>\n",
       "      <th>7</th>\n",
       "      <td>Kensington-Cedar Cottage</td>\n",
       "      <td>405</td>\n",
       "      <td>45.888889</td>\n",
       "    </tr>\n",
       "    <tr>\n",
       "      <th>8</th>\n",
       "      <td>Kerrisdale</td>\n",
       "      <td>78</td>\n",
       "      <td>25.730769</td>\n",
       "    </tr>\n",
       "    <tr>\n",
       "      <th>9</th>\n",
       "      <td>Killarney</td>\n",
       "      <td>81</td>\n",
       "      <td>39.604938</td>\n",
       "    </tr>\n",
       "    <tr>\n",
       "      <th>10</th>\n",
       "      <td>Kitsilano</td>\n",
       "      <td>487</td>\n",
       "      <td>41.850103</td>\n",
       "    </tr>\n",
       "    <tr>\n",
       "      <th>11</th>\n",
       "      <td>Marpole</td>\n",
       "      <td>188</td>\n",
       "      <td>32.840426</td>\n",
       "    </tr>\n",
       "    <tr>\n",
       "      <th>12</th>\n",
       "      <td>Mount Pleasant</td>\n",
       "      <td>437</td>\n",
       "      <td>39.876430</td>\n",
       "    </tr>\n",
       "    <tr>\n",
       "      <th>13</th>\n",
       "      <td>Oakridge</td>\n",
       "      <td>134</td>\n",
       "      <td>24.246269</td>\n",
       "    </tr>\n",
       "    <tr>\n",
       "      <th>14</th>\n",
       "      <td>Renfrew-Collingwood</td>\n",
       "      <td>241</td>\n",
       "      <td>51.464730</td>\n",
       "    </tr>\n",
       "    <tr>\n",
       "      <th>15</th>\n",
       "      <td>Riley Park</td>\n",
       "      <td>301</td>\n",
       "      <td>52.395349</td>\n",
       "    </tr>\n",
       "    <tr>\n",
       "      <th>16</th>\n",
       "      <td>Shaughnessy</td>\n",
       "      <td>87</td>\n",
       "      <td>28.367816</td>\n",
       "    </tr>\n",
       "    <tr>\n",
       "      <th>17</th>\n",
       "      <td>South Cambie</td>\n",
       "      <td>72</td>\n",
       "      <td>48.750000</td>\n",
       "    </tr>\n",
       "    <tr>\n",
       "      <th>18</th>\n",
       "      <td>Strathcona</td>\n",
       "      <td>35</td>\n",
       "      <td>67.857143</td>\n",
       "    </tr>\n",
       "    <tr>\n",
       "      <th>19</th>\n",
       "      <td>Sunset</td>\n",
       "      <td>174</td>\n",
       "      <td>27.413793</td>\n",
       "    </tr>\n",
       "    <tr>\n",
       "      <th>20</th>\n",
       "      <td>Victoria-Fraserview</td>\n",
       "      <td>159</td>\n",
       "      <td>27.025157</td>\n",
       "    </tr>\n",
       "    <tr>\n",
       "      <th>21</th>\n",
       "      <td>West End</td>\n",
       "      <td>512</td>\n",
       "      <td>28.970703</td>\n",
       "    </tr>\n",
       "    <tr>\n",
       "      <th>22</th>\n",
       "      <td>West Point Grey</td>\n",
       "      <td>118</td>\n",
       "      <td>30.398305</td>\n",
       "    </tr>\n",
       "  </tbody>\n",
       "</table>\n",
       "</div>"
      ],
      "text/plain": [
       "               neighbourhood  price  number_of_reviews\n",
       "0              Arbutus Ridge    116          38.818966\n",
       "1                   Downtown   1742          39.576923\n",
       "2          Downtown Eastside    376          57.946809\n",
       "3          Dunbar Southlands    207          24.971014\n",
       "4                   Fairview    180          21.266667\n",
       "5         Grandview-Woodland    282          60.489362\n",
       "6           Hastings-Sunrise    272          49.069853\n",
       "7   Kensington-Cedar Cottage    405          45.888889\n",
       "8                 Kerrisdale     78          25.730769\n",
       "9                  Killarney     81          39.604938\n",
       "10                 Kitsilano    487          41.850103\n",
       "11                   Marpole    188          32.840426\n",
       "12            Mount Pleasant    437          39.876430\n",
       "13                  Oakridge    134          24.246269\n",
       "14       Renfrew-Collingwood    241          51.464730\n",
       "15                Riley Park    301          52.395349\n",
       "16               Shaughnessy     87          28.367816\n",
       "17              South Cambie     72          48.750000\n",
       "18                Strathcona     35          67.857143\n",
       "19                    Sunset    174          27.413793\n",
       "20       Victoria-Fraserview    159          27.025157\n",
       "21                  West End    512          28.970703\n",
       "22           West Point Grey    118          30.398305"
      ]
     },
     "execution_count": 35,
     "metadata": {},
     "output_type": "execute_result"
    }
   ],
   "source": [
    "hoods_aggregated"
   ]
  },
  {
   "cell_type": "code",
   "execution_count": 36,
   "id": "0ea2d0c7",
   "metadata": {},
   "outputs": [],
   "source": [
    "hoods_aggregated.rename(columns={'price': 'price_count', 'number_of_reviews': 'avg_no_of_reviews'}, inplace=True)"
   ]
  },
  {
   "cell_type": "code",
   "execution_count": 37,
   "id": "4430a1ac",
   "metadata": {},
   "outputs": [
    {
     "data": {
      "image/png": "[encoded data removed]",
      "text/plain": [
       "<Figure size 640x480 with 1 Axes>"
      ]
     },
     "metadata": {},
     "output_type": "display_data"
    }
   ],
   "source": [
    "hoods_aggregated.plot(x = 'price_count', y='avg_no_of_reviews',style='o') # The style option creates a scatterplot; without it, we only have lines.\n",
    "plt.title('Price counts and Average Number of Reviews by Neighbourhood ')  \n",
    "plt.xlabel('price_count')  \n",
    "plt.ylabel('avg_no_of_reviews')  \n",
    "plt.show()"
   ]
  },
  {
   "cell_type": "code",
   "execution_count": 40,
   "id": "eb32022a",
   "metadata": {},
   "outputs": [],
   "source": [
    "# Reshape the variables into NumPy arrays and put them into separate objects.\n",
    "\n",
    "X = hoods_aggregated['price_count'].values.reshape(-1,1)\n",
    "y = hoods_aggregated['avg_no_of_reviews'].values.reshape(-1,1)"
   ]
  },
  {
   "cell_type": "code",
   "execution_count": 41,
   "id": "b73d1454",
   "metadata": {},
   "outputs": [
    {
     "data": {
      "text/plain": [
       "array([[ 116],\n",
       "       [1742],\n",
       "       [ 376],\n",
       "       [ 207],\n",
       "       [ 180],\n",
       "       [ 282],\n",
       "       [ 272],\n",
       "       [ 405],\n",
       "       [  78],\n",
       "       [  81],\n",
       "       [ 487],\n",
       "       [ 188],\n",
       "       [ 437],\n",
       "       [ 134],\n",
       "       [ 241],\n",
       "       [ 301],\n",
       "       [  87],\n",
       "       [  72],\n",
       "       [  35],\n",
       "       [ 174],\n",
       "       [ 159],\n",
       "       [ 512],\n",
       "       [ 118]])"
      ]
     },
     "execution_count": 41,
     "metadata": {},
     "output_type": "execute_result"
    }
   ],
   "source": [
    "X"
   ]
  },
  {
   "cell_type": "code",
   "execution_count": 43,
   "id": "a6e5d0bd",
   "metadata": {},
   "outputs": [
    {
     "data": {
      "text/plain": [
       "array([[38.81896552],\n",
       "       [39.57692308],\n",
       "       [57.94680851],\n",
       "       [24.97101449],\n",
       "       [21.26666667],\n",
       "       [60.4893617 ],\n",
       "       [49.06985294],\n",
       "       [45.88888889],\n",
       "       [25.73076923],\n",
       "       [39.60493827],\n",
       "       [41.85010267],\n",
       "       [32.84042553],\n",
       "       [39.87643021],\n",
       "       [24.24626866],\n",
       "       [51.46473029],\n",
       "       [52.39534884],\n",
       "       [28.36781609],\n",
       "       [48.75      ],\n",
       "       [67.85714286],\n",
       "       [27.4137931 ],\n",
       "       [27.02515723],\n",
       "       [28.97070312],\n",
       "       [30.39830508]])"
      ]
     },
     "execution_count": 43,
     "metadata": {},
     "output_type": "execute_result"
    }
   ],
   "source": [
    "y"
   ]
  },
  {
   "cell_type": "code",
   "execution_count": 44,
   "id": "498b54f1",
   "metadata": {},
   "outputs": [],
   "source": [
    "# Split data into a training set and a test set.\n",
    "\n",
    "X_train, X_test, y_train, y_test = train_test_split(X, y, test_size=0.3, random_state=0)"
   ]
  },
  {
   "cell_type": "markdown",
   "id": "5b4577f3",
   "metadata": {},
   "source": [
    "# Regression Analysis"
   ]
  },
  {
   "cell_type": "code",
   "execution_count": 45,
   "id": "781b590b",
   "metadata": {},
   "outputs": [],
   "source": [
    "# Create a regression object.\n",
    "# This is the regression object, which will be fit onto the training set.\n",
    "regression = LinearRegression() "
   ]
  },
  {
   "cell_type": "code",
   "execution_count": 46,
   "id": "8d83ca43",
   "metadata": {},
   "outputs": [
    {
     "data": {
      "text/html": [
       "<style>#sk-container-id-1 {color: black;}#sk-container-id-1 pre{padding: 0;}#sk-container-id-1 div.sk-toggleable {background-color: white;}#sk-container-id-1 label.sk-toggleable__label {cursor: pointer;display: block;width: 100%;margin-bottom: 0;padding: 0.3em;box-sizing: border-box;text-align: center;}#sk-container-id-1 label.sk-toggleable__label-arrow:before {content: \"▸\";float: left;margin-right: 0.25em;color: #696969;}#sk-container-id-1 label.sk-toggleable__label-arrow:hover:before {color: black;}#sk-container-id-1 div.sk-estimator:hover label.sk-toggleable__label-arrow:before {color: black;}#sk-container-id-1 div.sk-toggleable__content {max-height: 0;max-width: 0;overflow: hidden;text-align: left;background-color: #f0f8ff;}#sk-container-id-1 div.sk-toggleable__content pre {margin: 0.2em;color: black;border-radius: 0.25em;background-color: #f0f8ff;}#sk-container-id-1 input.sk-toggleable__control:checked~div.sk-toggleable__content {max-height: 200px;max-width: 100%;overflow: auto;}#sk-container-id-1 input.sk-toggleable__control:checked~label.sk-toggleable__label-arrow:before {content: \"▾\";}#sk-container-id-1 div.sk-estimator input.sk-toggleable__control:checked~label.sk-toggleable__label {background-color: #d4ebff;}#sk-container-id-1 div.sk-label input.sk-toggleable__control:checked~label.sk-toggleable__label {background-color: #d4ebff;}#sk-container-id-1 input.sk-hidden--visually {border: 0;clip: rect(1px 1px 1px 1px);clip: rect(1px, 1px, 1px, 1px);height: 1px;margin: -1px;overflow: hidden;padding: 0;position: absolute;width: 1px;}#sk-container-id-1 div.sk-estimator {font-family: monospace;background-color: #f0f8ff;border: 1px dotted black;border-radius: 0.25em;box-sizing: border-box;margin-bottom: 0.5em;}#sk-container-id-1 div.sk-estimator:hover {background-color: #d4ebff;}#sk-container-id-1 div.sk-parallel-item::after {content: \"\";width: 100%;border-bottom: 1px solid gray;flex-grow: 1;}#sk-container-id-1 div.sk-label:hover label.sk-toggleable__label {background-color: #d4ebff;}#sk-container-id-1 div.sk-serial::before {content: \"\";position: absolute;border-left: 1px solid gray;box-sizing: border-box;top: 0;bottom: 0;left: 50%;z-index: 0;}#sk-container-id-1 div.sk-serial {display: flex;flex-direction: column;align-items: center;background-color: white;padding-right: 0.2em;padding-left: 0.2em;position: relative;}#sk-container-id-1 div.sk-item {position: relative;z-index: 1;}#sk-container-id-1 div.sk-parallel {display: flex;align-items: stretch;justify-content: center;background-color: white;position: relative;}#sk-container-id-1 div.sk-item::before, #sk-container-id-1 div.sk-parallel-item::before {content: \"\";position: absolute;border-left: 1px solid gray;box-sizing: border-box;top: 0;bottom: 0;left: 50%;z-index: -1;}#sk-container-id-1 div.sk-parallel-item {display: flex;flex-direction: column;z-index: 1;position: relative;background-color: white;}#sk-container-id-1 div.sk-parallel-item:first-child::after {align-self: flex-end;width: 50%;}#sk-container-id-1 div.sk-parallel-item:last-child::after {align-self: flex-start;width: 50%;}#sk-container-id-1 div.sk-parallel-item:only-child::after {width: 0;}#sk-container-id-1 div.sk-dashed-wrapped {border: 1px dashed gray;margin: 0 0.4em 0.5em 0.4em;box-sizing: border-box;padding-bottom: 0.4em;background-color: white;}#sk-container-id-1 div.sk-label label {font-family: monospace;font-weight: bold;display: inline-block;line-height: 1.2em;}#sk-container-id-1 div.sk-label-container {text-align: center;}#sk-container-id-1 div.sk-container {/* jupyter's `normalize.less` sets `[hidden] { display: none; }` but bootstrap.min.css set `[hidden] { display: none !important; }` so we also need the `!important` here to be able to override the default hidden behavior on the sphinx rendered scikit-learn.org. See: https://github.com/scikit-learn/scikit-learn/issues/21755 */display: inline-block !important;position: relative;}#sk-container-id-1 div.sk-text-repr-fallback {display: none;}</style><div id=\"sk-container-id-1\" class=\"sk-top-container\"><div class=\"sk-text-repr-fallback\"><pre>LinearRegression()</pre><b>In a Jupyter environment, please rerun this cell to show the HTML representation or trust the notebook. <br />On GitHub, the HTML representation is unable to render, please try loading this page with nbviewer.org.</b></div><div class=\"sk-container\" hidden><div class=\"sk-item\"><div class=\"sk-estimator sk-toggleable\"><input class=\"sk-toggleable__control sk-hidden--visually\" id=\"sk-estimator-id-1\" type=\"checkbox\" checked><label for=\"sk-estimator-id-1\" class=\"sk-toggleable__label sk-toggleable__label-arrow\">LinearRegression</label><div class=\"sk-toggleable__content\"><pre>LinearRegression()</pre></div></div></div></div></div>"
      ],
      "text/plain": [
       "LinearRegression()"
      ]
     },
     "execution_count": 46,
     "metadata": {},
     "output_type": "execute_result"
    }
   ],
   "source": [
    "# Fit the regression object onto the training set.\n",
    "\n",
    "regression.fit(X_train, y_train)"
   ]
  },
  {
   "cell_type": "code",
   "execution_count": 47,
   "id": "dc6b2582",
   "metadata": {},
   "outputs": [],
   "source": [
    "# Predict the values of y using X.\n",
    "\n",
    "y_predicted = regression.predict(X_test)"
   ]
  },
  {
   "cell_type": "code",
   "execution_count": 48,
   "id": "648f552b",
   "metadata": {},
   "outputs": [
    {
     "data": {
      "image/png": "[encoded data removed]",
      "text/plain": [
       "<Figure size 640x480 with 1 Axes>"
      ]
     },
     "metadata": {},
     "output_type": "display_data"
    }
   ],
   "source": [
    "# Create a plot that shows the regression line from the model on the test set.\n",
    "\n",
    "plot_test = plt\n",
    "plot_test.scatter(X_test, y_test, color='orange', s = 15)\n",
    "plot_test.plot(X_test, y_predicted, color='blue', linewidth =3)\n",
    "plot_test.title('Avg No. of Reviews vs Price counts (Test set)')\n",
    "plot_test.xlabel('price_count')\n",
    "plot_test.ylabel('avg_number_of_reviews')\n",
    "plot_test.show()"
   ]
  },
  {
   "cell_type": "markdown",
   "id": "1774a662",
   "metadata": {},
   "source": [
    "The regression line is not very accurate or fit to the test set. And, subsequently, how accurate is it at predicting average number of reviews (the y variable)? It doesn't cover all the data points. For example, the prices are far from the line and indicate varied prices, which contradicts the hypothesis.So some summary statistics can further check the accuracy of the model."
   ]
  },
  {
   "cell_type": "markdown",
   "id": "16afd632",
   "metadata": {},
   "source": [
    "Hypothesis of if host (status) or reviews increase , (depending on price and neighbourhood factors), revenue will increase  "
   ]
  },
  {
   "cell_type": "code",
   "execution_count": 49,
   "id": "c77abcb4",
   "metadata": {},
   "outputs": [],
   "source": [
    "# Create objects that contain the model summary statistics.\n",
    "\n",
    "rmse = mean_squared_error(y_test, y_predicted) # This is the mean squared error\n",
    "r2 = r2_score(y_test, y_predicted) # This is the R2 score. "
   ]
  },
  {
   "cell_type": "code",
   "execution_count": 50,
   "id": "6269009f",
   "metadata": {},
   "outputs": [
    {
     "name": "stdout",
     "output_type": "stream",
     "text": [
      "Slope: [[0.02689426]]\n",
      "Mean squared error:  410.1209063638925\n",
      "R2 score:  -4.1349390387083265\n"
     ]
    }
   ],
   "source": [
    "# Print the model summary statistics. This is where you evaluate the performance of the model.\n",
    "\n",
    "print('Slope:' ,regression.coef_)\n",
    "print('Mean squared error: ', rmse)\n",
    "print('R2 score: ', r2)"
   ]
  },
  {
   "cell_type": "markdown",
   "id": "e76b686e",
   "metadata": {},
   "source": [
    "Results: A postive slope indicates as X rises, so does y. MSE is how close a regression line is to a set of points (ie. its accuracy). In this case, the MSE is large, a regression may not be the best model to represent this data.Also, the R2 score is negative which is if the model fits worse than a horizontal line."
   ]
  },
  {
   "cell_type": "code",
   "execution_count": 51,
   "id": "ea68e9b9",
   "metadata": {},
   "outputs": [
    {
     "data": {
      "text/plain": [
       "array([[40.8198515 ],\n",
       "       [48.86123667],\n",
       "       [49.53359329],\n",
       "       [42.24524753],\n",
       "       [40.03991782],\n",
       "       [82.613539  ],\n",
       "       [39.3675612 ]])"
      ]
     },
     "execution_count": 51,
     "metadata": {},
     "output_type": "execute_result"
    }
   ],
   "source": [
    "y_predicted"
   ]
  },
  {
   "cell_type": "code",
   "execution_count": 52,
   "id": "7945f849",
   "metadata": {},
   "outputs": [
    {
     "data": {
      "text/html": [
       "<div>\n",
       "<style scoped>\n",
       "    .dataframe tbody tr th:only-of-type {\n",
       "        vertical-align: middle;\n",
       "    }\n",
       "\n",
       "    .dataframe tbody tr th {\n",
       "        vertical-align: top;\n",
       "    }\n",
       "\n",
       "    .dataframe thead th {\n",
       "        text-align: right;\n",
       "    }\n",
       "</style>\n",
       "<table border=\"1\" class=\"dataframe\">\n",
       "  <thead>\n",
       "    <tr style=\"text-align: right;\">\n",
       "      <th></th>\n",
       "      <th>Actual</th>\n",
       "      <th>Predicted</th>\n",
       "    </tr>\n",
       "  </thead>\n",
       "  <tbody>\n",
       "    <tr>\n",
       "      <th>0</th>\n",
       "      <td>32.840426</td>\n",
       "      <td>40.819852</td>\n",
       "    </tr>\n",
       "    <tr>\n",
       "      <th>1</th>\n",
       "      <td>41.850103</td>\n",
       "      <td>48.861237</td>\n",
       "    </tr>\n",
       "    <tr>\n",
       "      <th>2</th>\n",
       "      <td>28.970703</td>\n",
       "      <td>49.533593</td>\n",
       "    </tr>\n",
       "    <tr>\n",
       "      <th>3</th>\n",
       "      <td>51.464730</td>\n",
       "      <td>42.245248</td>\n",
       "    </tr>\n",
       "    <tr>\n",
       "      <th>4</th>\n",
       "      <td>27.025157</td>\n",
       "      <td>40.039918</td>\n",
       "    </tr>\n",
       "    <tr>\n",
       "      <th>5</th>\n",
       "      <td>39.576923</td>\n",
       "      <td>82.613539</td>\n",
       "    </tr>\n",
       "    <tr>\n",
       "      <th>6</th>\n",
       "      <td>24.246269</td>\n",
       "      <td>39.367561</td>\n",
       "    </tr>\n",
       "  </tbody>\n",
       "</table>\n",
       "</div>"
      ],
      "text/plain": [
       "      Actual  Predicted\n",
       "0  32.840426  40.819852\n",
       "1  41.850103  48.861237\n",
       "2  28.970703  49.533593\n",
       "3  51.464730  42.245248\n",
       "4  27.025157  40.039918\n",
       "5  39.576923  82.613539\n",
       "6  24.246269  39.367561"
      ]
     },
     "execution_count": 52,
     "metadata": {},
     "output_type": "execute_result"
    }
   ],
   "source": [
    "# Create a dataframe comparing the actual and predicted values of y.\n",
    "\n",
    "data = pd.DataFrame({'Actual': y_test.flatten(), 'Predicted': y_predicted.flatten()})\n",
    "data.head(30)"
   ]
  },
  {
   "cell_type": "markdown",
   "id": "81e3bdc5",
   "metadata": {},
   "source": [
    "By comparing the actual values from the predicted values manually using nothing but your eyes, you can see for yourself how far off or close the model is.Therefore, the model isn't doing a great job of explaining the relationship between the \"price\" and \"number of reviews\""
   ]
  },
  {
   "cell_type": "markdown",
   "id": "6dd36b72",
   "metadata": {},
   "source": [
    "As a result, the hypothesis is only partially true. There's still a lot of variance in the data that can't be explained by the linear relationship between your variables. To test another hypothesis you could try multiple regression analyses. Four key points to remember when conducting any kind of predictive analysis:\n",
    "    # at least 5,000 observations\n",
    "    # careful about removing extreme values in order to force model to perform better\n",
    "    # consider any potential bias in your data that may affect the output\n",
    "    # re-test with other different predictors (x's) "
   ]
  },
  {
   "cell_type": "code",
   "execution_count": 53,
   "id": "d74e2937",
   "metadata": {},
   "outputs": [],
   "source": [
    "# Compare how the regression fits the training set \n",
    "# predict\n",
    "y_predicted_train = regression.predict(X_train) # This is predicting X_train!"
   ]
  },
  {
   "cell_type": "code",
   "execution_count": 54,
   "id": "3d281d4b",
   "metadata": {},
   "outputs": [],
   "source": [
    "rmse = mean_squared_error(y_train, y_predicted_train)\n",
    "r2 = r2_score(y_train, y_predicted_train)"
   ]
  },
  {
   "cell_type": "code",
   "execution_count": 55,
   "id": "3ecb2c82",
   "metadata": {},
   "outputs": [
    {
     "name": "stdout",
     "output_type": "stream",
     "text": [
      "Slope: [[0.02689426]]\n",
      "Mean squared error:  176.8001636871278\n",
      "R2 score:  0.06043894258989946\n"
     ]
    }
   ],
   "source": [
    "print('Slope:' ,regression.coef_)\n",
    "print('Mean squared error: ', rmse)\n",
    "print('R2 score: ', r2)"
   ]
  },
  {
   "cell_type": "code",
   "execution_count": 56,
   "id": "6f69f50d",
   "metadata": {},
   "outputs": [
    {
     "data": {
      "image/png": "[encoded data removed]",
      "text/plain": [
       "<Figure size 640x480 with 1 Axes>"
      ]
     },
     "metadata": {},
     "output_type": "display_data"
    }
   ],
   "source": [
    "# Visualizing the training set results.\n",
    "\n",
    "plot_test = plt\n",
    "plot_test.scatter(X_train, y_train, color='pink', s = 15)\n",
    "plot_test.plot(X_train, y_predicted_train, color='gray', linewidth =3)\n",
    "plot_test.title('Avg No. of Reviews vs Price counts (Van set)')\n",
    "plot_test.xlabel('price_count')\n",
    "plot_test.ylabel('avg_number_of_reviews')\n",
    "plot_test.show()"
   ]
  },
  {
   "cell_type": "markdown",
   "id": "db644b8e",
   "metadata": {},
   "source": [
    "The slope is relatively the same, and although the MSE has dropped in size the number is still fairly large. Also, the r2 value is now positive, however still closer to 0 indicating a poor fit."
   ]
  },
  {
   "cell_type": "code",
   "execution_count": 57,
   "id": "4dcb397f",
   "metadata": {},
   "outputs": [
    {
     "data": {
      "text/html": [
       "<div>\n",
       "<style scoped>\n",
       "    .dataframe tbody tr th:only-of-type {\n",
       "        vertical-align: middle;\n",
       "    }\n",
       "\n",
       "    .dataframe tbody tr th {\n",
       "        vertical-align: top;\n",
       "    }\n",
       "\n",
       "    .dataframe thead th {\n",
       "        text-align: right;\n",
       "    }\n",
       "</style>\n",
       "<table border=\"1\" class=\"dataframe\">\n",
       "  <thead>\n",
       "    <tr style=\"text-align: right;\">\n",
       "      <th></th>\n",
       "      <th>Actual</th>\n",
       "      <th>Predicted</th>\n",
       "    </tr>\n",
       "  </thead>\n",
       "  <tbody>\n",
       "    <tr>\n",
       "      <th>0</th>\n",
       "      <td>32.840426</td>\n",
       "      <td>40.819852</td>\n",
       "    </tr>\n",
       "    <tr>\n",
       "      <th>1</th>\n",
       "      <td>41.850103</td>\n",
       "      <td>48.861237</td>\n",
       "    </tr>\n",
       "    <tr>\n",
       "      <th>2</th>\n",
       "      <td>28.970703</td>\n",
       "      <td>49.533593</td>\n",
       "    </tr>\n",
       "    <tr>\n",
       "      <th>3</th>\n",
       "      <td>51.464730</td>\n",
       "      <td>42.245248</td>\n",
       "    </tr>\n",
       "    <tr>\n",
       "      <th>4</th>\n",
       "      <td>27.025157</td>\n",
       "      <td>40.039918</td>\n",
       "    </tr>\n",
       "    <tr>\n",
       "      <th>5</th>\n",
       "      <td>39.576923</td>\n",
       "      <td>82.613539</td>\n",
       "    </tr>\n",
       "    <tr>\n",
       "      <th>6</th>\n",
       "      <td>24.246269</td>\n",
       "      <td>39.367561</td>\n",
       "    </tr>\n",
       "  </tbody>\n",
       "</table>\n",
       "</div>"
      ],
      "text/plain": [
       "      Actual  Predicted\n",
       "0  32.840426  40.819852\n",
       "1  41.850103  48.861237\n",
       "2  28.970703  49.533593\n",
       "3  51.464730  42.245248\n",
       "4  27.025157  40.039918\n",
       "5  39.576923  82.613539\n",
       "6  24.246269  39.367561"
      ]
     },
     "execution_count": 57,
     "metadata": {},
     "output_type": "execute_result"
    }
   ],
   "source": [
    "# Creatin a df comparing the actual and predicted values of y.\n",
    "\n",
    "data = pd.DataFrame({'Actual': y_test.flatten(), 'Predicted': y_predicted.flatten()})\n",
    "data.head(15)"
   ]
  },
  {
   "cell_type": "markdown",
   "id": "11f993c7",
   "metadata": {},
   "source": [
    "The model is still not doing a great job of explaining the relationship between the \"price\" and \"number of reviews\", and is therefore still a poor fit when comparing actual vs.predicted."
   ]
  },
  {
   "cell_type": "code",
   "execution_count": null,
   "id": "87409da6",
   "metadata": {},
   "outputs": [],
   "source": [
    "Reflections on the impact of possible data bias include the fact that many assumptions "
   ]
  },
  {
   "cell_type": "code",
   "execution_count": 58,
   "id": "ef8272cc",
   "metadata": {},
   "outputs": [
    {
     "data": {
      "text/plain": [
       "(6684, 9)"
      ]
     },
     "execution_count": 58,
     "metadata": {},
     "output_type": "execute_result"
    }
   ],
   "source": [
    "#checking shape and df before exporting\n",
    "listings.shape"
   ]
  },
  {
   "cell_type": "code",
   "execution_count": 59,
   "id": "b3dff164",
   "metadata": {},
   "outputs": [],
   "source": [
    "# saving csv to folder\n",
    "listings.to_csv(os.path.join(path, 'Data','Prepared Data', 'machine_learning_listings.csv'))"
   ]
  }
 ],
 "metadata": {
  "kernelspec": {
   "display_name": "Python 3 (ipykernel)",
   "language": "python",
   "name": "python3"
  },
  "language_info": {
   "codemirror_mode": {
    "name": "ipython",
    "version": 3
   },
   "file_extension": ".py",
   "mimetype": "text/x-python",
   "name": "python",
   "nbconvert_exporter": "python",
   "pygments_lexer": "ipython3",
   "version": "3.11.5"
  }
 },
 "nbformat": 4,
 "nbformat_minor": 5
}
